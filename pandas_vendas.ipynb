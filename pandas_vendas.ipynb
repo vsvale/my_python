{
 "cells": [
  {
   "cell_type": "markdown",
   "metadata": {},
   "source": [
    "Desafio:\n",
    "\n",
    "Você faz parte da equipe de Analytics de uma grande marca de vestuário com mais de 25 lojas espalhadas em Shoppings de todo o Brasil.\n",
    "\n",
    "Toda semana você precisa enviar para a diretoria um ranking atualizado com as 25 lojas contendo 3 informações:\n",
    "\n",
    "    Faturamento de cada Loja\n",
    "    Quantidade de Produtos Vendidos de cada Loja\n",
    "    Ticket Médio dos Produto de cada Loja\n",
    "\n",
    "Além disso, cada loja tem 1 gerente que precisa receber o resumo das informações da loja dele. Por isso, cada gerente deve receber no e-mail:\n",
    "\n",
    "    Faturamento da sua loja\n",
    "    Quantidade de Produtos Vendidos da sua loja\n",
    "    Ticket Médio dos Produto da sua Loja\n",
    "\n",
    "Esse relatório é sempre enviado como um resumo de todos os dados disponíveis no ano.\n"
   ]
  },
  {
   "cell_type": "code",
   "execution_count": 35,
   "metadata": {},
   "outputs": [],
   "source": [
    "import pandas as pd\n",
    "import sqlite3\n",
    "import wget\n",
    "from os.path import exists\n",
    "from unidecode import unidecode\n",
    "import matplotlib.pyplot as plt\n",
    "import seaborn as sns"
   ]
  },
  {
   "cell_type": "code",
   "execution_count": 6,
   "metadata": {},
   "outputs": [],
   "source": [
    "if not exists('data/Vendas.csv'):\n",
    "    wget.download('https://raw.githubusercontent.com/vsvale/datasets/main/Vendas.csv','data')"
   ]
  },
  {
   "cell_type": "code",
   "execution_count": 7,
   "metadata": {},
   "outputs": [
    {
     "data": {
      "text/html": [
       "<div>\n",
       "<style scoped>\n",
       "    .dataframe tbody tr th:only-of-type {\n",
       "        vertical-align: middle;\n",
       "    }\n",
       "\n",
       "    .dataframe tbody tr th {\n",
       "        vertical-align: top;\n",
       "    }\n",
       "\n",
       "    .dataframe thead th {\n",
       "        text-align: right;\n",
       "    }\n",
       "</style>\n",
       "<table border=\"1\" class=\"dataframe\">\n",
       "  <thead>\n",
       "    <tr style=\"text-align: right;\">\n",
       "      <th></th>\n",
       "      <th>Codigo_Venda</th>\n",
       "      <th>Data</th>\n",
       "      <th>ID_Loja</th>\n",
       "      <th>Produto</th>\n",
       "      <th>Quantidade</th>\n",
       "      <th>Valor_Unitario</th>\n",
       "      <th>Valor_Final</th>\n",
       "    </tr>\n",
       "  </thead>\n",
       "  <tbody>\n",
       "    <tr>\n",
       "      <th>0</th>\n",
       "      <td>200805093CS607</td>\n",
       "      <td>5/9/2008 0:00</td>\n",
       "      <td>199</td>\n",
       "      <td>Adventure Works Laptop15.4W M1548 Red</td>\n",
       "      <td>6</td>\n",
       "      <td>758.0</td>\n",
       "      <td>4548.0</td>\n",
       "    </tr>\n",
       "    <tr>\n",
       "      <th>1</th>\n",
       "      <td>200805123CS567</td>\n",
       "      <td>5/12/2008 0:00</td>\n",
       "      <td>306</td>\n",
       "      <td>Adventure Works Laptop15.4W M1548 Red</td>\n",
       "      <td>6</td>\n",
       "      <td>758.0</td>\n",
       "      <td>4548.0</td>\n",
       "    </tr>\n",
       "    <tr>\n",
       "      <th>2</th>\n",
       "      <td>200805143CS576</td>\n",
       "      <td>5/14/2008 0:00</td>\n",
       "      <td>306</td>\n",
       "      <td>Adventure Works Laptop15.4W M1548 Red</td>\n",
       "      <td>6</td>\n",
       "      <td>758.0</td>\n",
       "      <td>4548.0</td>\n",
       "    </tr>\n",
       "    <tr>\n",
       "      <th>3</th>\n",
       "      <td>200805213CS576</td>\n",
       "      <td>5/21/2008 0:00</td>\n",
       "      <td>306</td>\n",
       "      <td>Adventure Works Laptop15.4W M1548 Red</td>\n",
       "      <td>6</td>\n",
       "      <td>758.0</td>\n",
       "      <td>4548.0</td>\n",
       "    </tr>\n",
       "    <tr>\n",
       "      <th>4</th>\n",
       "      <td>200806203CS586</td>\n",
       "      <td>6/20/2008 0:00</td>\n",
       "      <td>306</td>\n",
       "      <td>Adventure Works Laptop15.4W M1548 Red</td>\n",
       "      <td>6</td>\n",
       "      <td>758.0</td>\n",
       "      <td>4548.0</td>\n",
       "    </tr>\n",
       "  </tbody>\n",
       "</table>\n",
       "</div>"
      ],
      "text/plain": [
       "     Codigo_Venda            Data  ID_Loja  \\\n",
       "0  200805093CS607   5/9/2008 0:00      199   \n",
       "1  200805123CS567  5/12/2008 0:00      306   \n",
       "2  200805143CS576  5/14/2008 0:00      306   \n",
       "3  200805213CS576  5/21/2008 0:00      306   \n",
       "4  200806203CS586  6/20/2008 0:00      306   \n",
       "\n",
       "                                 Produto  Quantidade  Valor_Unitario  \\\n",
       "0  Adventure Works Laptop15.4W M1548 Red           6           758.0   \n",
       "1  Adventure Works Laptop15.4W M1548 Red           6           758.0   \n",
       "2  Adventure Works Laptop15.4W M1548 Red           6           758.0   \n",
       "3  Adventure Works Laptop15.4W M1548 Red           6           758.0   \n",
       "4  Adventure Works Laptop15.4W M1548 Red           6           758.0   \n",
       "\n",
       "   Valor_Final  \n",
       "0       4548.0  \n",
       "1       4548.0  \n",
       "2       4548.0  \n",
       "3       4548.0  \n",
       "4       4548.0  "
      ]
     },
     "execution_count": 7,
     "metadata": {},
     "output_type": "execute_result"
    }
   ],
   "source": [
    "df = pd.read_csv('data/Vendas.csv')\n",
    "df.head()"
   ]
  },
  {
   "cell_type": "code",
   "execution_count": 8,
   "metadata": {},
   "outputs": [],
   "source": [
    "con = sqlite3.connect('VendasDB.db')"
   ]
  },
  {
   "cell_type": "code",
   "execution_count": 9,
   "metadata": {},
   "outputs": [],
   "source": [
    "cur = con.cursor()"
   ]
  },
  {
   "cell_type": "code",
   "execution_count": 10,
   "metadata": {},
   "outputs": [
    {
     "name": "stderr",
     "output_type": "stream",
     "text": [
      "/tmp/ipykernel_425/2089091235.py:1: FutureWarning: Index.ravel returning ndarray is deprecated; in a future version this will return a view on self.\n",
      "  table_fields = list(df.columns.ravel())\n"
     ]
    },
    {
     "data": {
      "text/plain": [
       "['Codigo_Venda',\n",
       " 'Data',\n",
       " 'ID_Loja',\n",
       " 'Produto',\n",
       " 'Quantidade',\n",
       " 'Valor_Unitario',\n",
       " 'Valor_Final']"
      ]
     },
     "execution_count": 10,
     "metadata": {},
     "output_type": "execute_result"
    }
   ],
   "source": [
    "table_fields = list(df.columns.ravel())\n",
    "table_fields"
   ]
  },
  {
   "cell_type": "code",
   "execution_count": 11,
   "metadata": {},
   "outputs": [
    {
     "data": {
      "text/plain": [
       "['Codigo_Venda',\n",
       " 'Data',\n",
       " 'ID_Loja',\n",
       " 'Produto',\n",
       " 'Quantidade',\n",
       " 'Valor_Unitario',\n",
       " 'Valor_Final']"
      ]
     },
     "execution_count": 11,
     "metadata": {},
     "output_type": "execute_result"
    }
   ],
   "source": [
    "table_fields = [unidecode(column).replace(\" \",\"_\") for column in table_fields]\n",
    "table_fields"
   ]
  },
  {
   "cell_type": "code",
   "execution_count": 12,
   "metadata": {},
   "outputs": [
    {
     "data": {
      "text/plain": [
       "<sqlite3.Cursor at 0x7fe7a6a4ab40>"
      ]
     },
     "execution_count": 12,
     "metadata": {},
     "output_type": "execute_result"
    }
   ],
   "source": [
    "cur.execute(\"\"\"CREATE TABLE IF NOT EXISTS \"\"\"+\"\"\"VENDAS\"\"\"+\"\"\"(\"\"\"+','.join(table_fields)+\"\"\")\"\"\")"
   ]
  },
  {
   "cell_type": "code",
   "execution_count": 14,
   "metadata": {},
   "outputs": [
    {
     "data": {
      "text/plain": [
       "'INSERT INTO VENDAS(Codigo_Venda,Data,ID_Loja,Produto,Quantidade,Valor_Unitario,Valor_Final) VALUES (?,?,?,?,?,?,?)'"
      ]
     },
     "execution_count": 14,
     "metadata": {},
     "output_type": "execute_result"
    }
   ],
   "source": [
    "query = \"\"\"INSERT INTO\"\"\"+\"\"\" VENDAS\"\"\"+\"\"\"(\"\"\"+','.join(table_fields)+\"\"\") VALUES (\"\"\"+','.join(map(str,'?'*len(df.columns)))+\"\"\")\"\"\"\n",
    "query"
   ]
  },
  {
   "cell_type": "code",
   "execution_count": 15,
   "metadata": {},
   "outputs": [],
   "source": [
    "str_dataset = df.astype(str)"
   ]
  },
  {
   "cell_type": "code",
   "execution_count": 16,
   "metadata": {},
   "outputs": [],
   "source": [
    "for i in range(len(str_dataset)):\n",
    "  insert = tuple(str_dataset.iloc[i])\n",
    "  cur.execute(query,insert)\n",
    "con.commit()"
   ]
  },
  {
   "cell_type": "code",
   "execution_count": 17,
   "metadata": {},
   "outputs": [],
   "source": [
    "df = pd.read_sql_query('SELECT * FROM VENDAS',con)"
   ]
  },
  {
   "cell_type": "code",
   "execution_count": 18,
   "metadata": {},
   "outputs": [],
   "source": [
    "con.close()"
   ]
  },
  {
   "cell_type": "code",
   "execution_count": 19,
   "metadata": {},
   "outputs": [
    {
     "data": {
      "text/html": [
       "<div>\n",
       "<style scoped>\n",
       "    .dataframe tbody tr th:only-of-type {\n",
       "        vertical-align: middle;\n",
       "    }\n",
       "\n",
       "    .dataframe tbody tr th {\n",
       "        vertical-align: top;\n",
       "    }\n",
       "\n",
       "    .dataframe thead th {\n",
       "        text-align: right;\n",
       "    }\n",
       "</style>\n",
       "<table border=\"1\" class=\"dataframe\">\n",
       "  <thead>\n",
       "    <tr style=\"text-align: right;\">\n",
       "      <th></th>\n",
       "      <th>Codigo_Venda</th>\n",
       "      <th>Data</th>\n",
       "      <th>ID_Loja</th>\n",
       "      <th>Produto</th>\n",
       "      <th>Quantidade</th>\n",
       "      <th>Valor_Unitario</th>\n",
       "      <th>Valor_Final</th>\n",
       "    </tr>\n",
       "  </thead>\n",
       "  <tbody>\n",
       "    <tr>\n",
       "      <th>0</th>\n",
       "      <td>200805093CS607</td>\n",
       "      <td>5/9/2008 0:00</td>\n",
       "      <td>199</td>\n",
       "      <td>Adventure Works Laptop15.4W M1548 Red</td>\n",
       "      <td>6</td>\n",
       "      <td>758.0</td>\n",
       "      <td>4548.0</td>\n",
       "    </tr>\n",
       "    <tr>\n",
       "      <th>1</th>\n",
       "      <td>200805123CS567</td>\n",
       "      <td>5/12/2008 0:00</td>\n",
       "      <td>306</td>\n",
       "      <td>Adventure Works Laptop15.4W M1548 Red</td>\n",
       "      <td>6</td>\n",
       "      <td>758.0</td>\n",
       "      <td>4548.0</td>\n",
       "    </tr>\n",
       "    <tr>\n",
       "      <th>2</th>\n",
       "      <td>200805143CS576</td>\n",
       "      <td>5/14/2008 0:00</td>\n",
       "      <td>306</td>\n",
       "      <td>Adventure Works Laptop15.4W M1548 Red</td>\n",
       "      <td>6</td>\n",
       "      <td>758.0</td>\n",
       "      <td>4548.0</td>\n",
       "    </tr>\n",
       "    <tr>\n",
       "      <th>3</th>\n",
       "      <td>200805213CS576</td>\n",
       "      <td>5/21/2008 0:00</td>\n",
       "      <td>306</td>\n",
       "      <td>Adventure Works Laptop15.4W M1548 Red</td>\n",
       "      <td>6</td>\n",
       "      <td>758.0</td>\n",
       "      <td>4548.0</td>\n",
       "    </tr>\n",
       "    <tr>\n",
       "      <th>4</th>\n",
       "      <td>200806203CS586</td>\n",
       "      <td>6/20/2008 0:00</td>\n",
       "      <td>306</td>\n",
       "      <td>Adventure Works Laptop15.4W M1548 Red</td>\n",
       "      <td>6</td>\n",
       "      <td>758.0</td>\n",
       "      <td>4548.0</td>\n",
       "    </tr>\n",
       "  </tbody>\n",
       "</table>\n",
       "</div>"
      ],
      "text/plain": [
       "     Codigo_Venda            Data ID_Loja  \\\n",
       "0  200805093CS607   5/9/2008 0:00     199   \n",
       "1  200805123CS567  5/12/2008 0:00     306   \n",
       "2  200805143CS576  5/14/2008 0:00     306   \n",
       "3  200805213CS576  5/21/2008 0:00     306   \n",
       "4  200806203CS586  6/20/2008 0:00     306   \n",
       "\n",
       "                                 Produto Quantidade Valor_Unitario Valor_Final  \n",
       "0  Adventure Works Laptop15.4W M1548 Red          6          758.0      4548.0  \n",
       "1  Adventure Works Laptop15.4W M1548 Red          6          758.0      4548.0  \n",
       "2  Adventure Works Laptop15.4W M1548 Red          6          758.0      4548.0  \n",
       "3  Adventure Works Laptop15.4W M1548 Red          6          758.0      4548.0  \n",
       "4  Adventure Works Laptop15.4W M1548 Red          6          758.0      4548.0  "
      ]
     },
     "execution_count": 19,
     "metadata": {},
     "output_type": "execute_result"
    }
   ],
   "source": [
    "df.head()"
   ]
  },
  {
   "cell_type": "code",
   "execution_count": 20,
   "metadata": {},
   "outputs": [
    {
     "name": "stdout",
     "output_type": "stream",
     "text": [
      "<class 'pandas.core.frame.DataFrame'>\n",
      "RangeIndex: 904 entries, 0 to 903\n",
      "Data columns (total 7 columns):\n",
      " #   Column          Non-Null Count  Dtype \n",
      "---  ------          --------------  ----- \n",
      " 0   Codigo_Venda    904 non-null    object\n",
      " 1   Data            904 non-null    object\n",
      " 2   ID_Loja         904 non-null    object\n",
      " 3   Produto         904 non-null    object\n",
      " 4   Quantidade      904 non-null    object\n",
      " 5   Valor_Unitario  904 non-null    object\n",
      " 6   Valor_Final     904 non-null    object\n",
      "dtypes: object(7)\n",
      "memory usage: 49.6+ KB\n"
     ]
    }
   ],
   "source": [
    "df.info()"
   ]
  },
  {
   "cell_type": "code",
   "execution_count": 22,
   "metadata": {},
   "outputs": [],
   "source": [
    "df['Quantidade'] = pd.to_numeric(df['Quantidade'])\n",
    "df[['Valor_Unitario','Valor_Final']] = df[['Valor_Unitario','Valor_Final']].astype(float)\n",
    "df['Data'] = pd.to_datetime(df['Data'])"
   ]
  },
  {
   "cell_type": "code",
   "execution_count": 23,
   "metadata": {},
   "outputs": [
    {
     "name": "stdout",
     "output_type": "stream",
     "text": [
      "<class 'pandas.core.frame.DataFrame'>\n",
      "RangeIndex: 904 entries, 0 to 903\n",
      "Data columns (total 7 columns):\n",
      " #   Column          Non-Null Count  Dtype         \n",
      "---  ------          --------------  -----         \n",
      " 0   Codigo_Venda    904 non-null    object        \n",
      " 1   Data            904 non-null    datetime64[ns]\n",
      " 2   ID_Loja         904 non-null    object        \n",
      " 3   Produto         904 non-null    object        \n",
      " 4   Quantidade      904 non-null    int64         \n",
      " 5   Valor_Unitario  904 non-null    float64       \n",
      " 6   Valor_Final     904 non-null    float64       \n",
      "dtypes: datetime64[ns](1), float64(2), int64(1), object(3)\n",
      "memory usage: 49.6+ KB\n"
     ]
    }
   ],
   "source": [
    "df.info()"
   ]
  },
  {
   "cell_type": "code",
   "execution_count": 29,
   "metadata": {},
   "outputs": [
    {
     "name": "stdout",
     "output_type": "stream",
     "text": [
      "O dataset possui 904 registros e 7 atributos.\n"
     ]
    }
   ],
   "source": [
    "print('O dataset possui',df.shape[0], 'registros e', df.shape[1], 'atributos.')"
   ]
  },
  {
   "cell_type": "code",
   "execution_count": 30,
   "metadata": {},
   "outputs": [
    {
     "data": {
      "text/html": [
       "<div>\n",
       "<style scoped>\n",
       "    .dataframe tbody tr th:only-of-type {\n",
       "        vertical-align: middle;\n",
       "    }\n",
       "\n",
       "    .dataframe tbody tr th {\n",
       "        vertical-align: top;\n",
       "    }\n",
       "\n",
       "    .dataframe thead th {\n",
       "        text-align: right;\n",
       "    }\n",
       "</style>\n",
       "<table border=\"1\" class=\"dataframe\">\n",
       "  <thead>\n",
       "    <tr style=\"text-align: right;\">\n",
       "      <th></th>\n",
       "      <th>Quantidade</th>\n",
       "      <th>Valor_Unitario</th>\n",
       "      <th>Valor_Final</th>\n",
       "    </tr>\n",
       "  </thead>\n",
       "  <tbody>\n",
       "    <tr>\n",
       "      <th>count</th>\n",
       "      <td>904.000000</td>\n",
       "      <td>904.000000</td>\n",
       "      <td>904.000000</td>\n",
       "    </tr>\n",
       "    <tr>\n",
       "      <th>mean</th>\n",
       "      <td>62.950221</td>\n",
       "      <td>742.527965</td>\n",
       "      <td>6620.139538</td>\n",
       "    </tr>\n",
       "    <tr>\n",
       "      <th>std</th>\n",
       "      <td>148.945964</td>\n",
       "      <td>368.589889</td>\n",
       "      <td>4319.407257</td>\n",
       "    </tr>\n",
       "    <tr>\n",
       "      <th>min</th>\n",
       "      <td>2.000000</td>\n",
       "      <td>9.990000</td>\n",
       "      <td>159.840000</td>\n",
       "    </tr>\n",
       "    <tr>\n",
       "      <th>25%</th>\n",
       "      <td>6.000000</td>\n",
       "      <td>758.000000</td>\n",
       "      <td>3920.000000</td>\n",
       "    </tr>\n",
       "    <tr>\n",
       "      <th>50%</th>\n",
       "      <td>9.000000</td>\n",
       "      <td>980.000000</td>\n",
       "      <td>5798.700000</td>\n",
       "    </tr>\n",
       "    <tr>\n",
       "      <th>75%</th>\n",
       "      <td>17.000000</td>\n",
       "      <td>998.000000</td>\n",
       "      <td>7986.000000</td>\n",
       "    </tr>\n",
       "    <tr>\n",
       "      <th>max</th>\n",
       "      <td>1560.000000</td>\n",
       "      <td>999.000000</td>\n",
       "      <td>29400.000000</td>\n",
       "    </tr>\n",
       "  </tbody>\n",
       "</table>\n",
       "</div>"
      ],
      "text/plain": [
       "        Quantidade  Valor_Unitario   Valor_Final\n",
       "count   904.000000      904.000000    904.000000\n",
       "mean     62.950221      742.527965   6620.139538\n",
       "std     148.945964      368.589889   4319.407257\n",
       "min       2.000000        9.990000    159.840000\n",
       "25%       6.000000      758.000000   3920.000000\n",
       "50%       9.000000      980.000000   5798.700000\n",
       "75%      17.000000      998.000000   7986.000000\n",
       "max    1560.000000      999.000000  29400.000000"
      ]
     },
     "execution_count": 30,
     "metadata": {},
     "output_type": "execute_result"
    }
   ],
   "source": [
    "df.describe()"
   ]
  },
  {
   "cell_type": "code",
   "execution_count": 31,
   "metadata": {},
   "outputs": [
    {
     "data": {
      "text/plain": [
       "Codigo_Venda      0\n",
       "Data              0\n",
       "ID_Loja           0\n",
       "Produto           0\n",
       "Quantidade        0\n",
       "Valor_Unitario    0\n",
       "Valor_Final       0\n",
       "dtype: int64"
      ]
     },
     "execution_count": 31,
     "metadata": {},
     "output_type": "execute_result"
    }
   ],
   "source": [
    "df.isna().sum()"
   ]
  },
  {
   "attachments": {},
   "cell_type": "markdown",
   "metadata": {},
   "source": [
    "### Calcular o faturamento por Loja"
   ]
  },
  {
   "cell_type": "code",
   "execution_count": 24,
   "metadata": {},
   "outputs": [
    {
     "data": {
      "text/html": [
       "<div>\n",
       "<style scoped>\n",
       "    .dataframe tbody tr th:only-of-type {\n",
       "        vertical-align: middle;\n",
       "    }\n",
       "\n",
       "    .dataframe tbody tr th {\n",
       "        vertical-align: top;\n",
       "    }\n",
       "\n",
       "    .dataframe thead th {\n",
       "        text-align: right;\n",
       "    }\n",
       "</style>\n",
       "<table border=\"1\" class=\"dataframe\">\n",
       "  <thead>\n",
       "    <tr style=\"text-align: right;\">\n",
       "      <th></th>\n",
       "      <th>Valor_Final</th>\n",
       "    </tr>\n",
       "    <tr>\n",
       "      <th>ID_Loja</th>\n",
       "      <th></th>\n",
       "    </tr>\n",
       "  </thead>\n",
       "  <tbody>\n",
       "    <tr>\n",
       "      <th>199</th>\n",
       "      <td>2.181104e+06</td>\n",
       "    </tr>\n",
       "    <tr>\n",
       "      <th>307</th>\n",
       "      <td>2.079648e+06</td>\n",
       "    </tr>\n",
       "    <tr>\n",
       "      <th>306</th>\n",
       "      <td>1.723854e+06</td>\n",
       "    </tr>\n",
       "  </tbody>\n",
       "</table>\n",
       "</div>"
      ],
      "text/plain": [
       "          Valor_Final\n",
       "ID_Loja              \n",
       "199      2.181104e+06\n",
       "307      2.079648e+06\n",
       "306      1.723854e+06"
      ]
     },
     "execution_count": 24,
     "metadata": {},
     "output_type": "execute_result"
    }
   ],
   "source": [
    "loja_vf = df[['ID_Loja','Valor_Final']]\n",
    "fat_loja = loja_vf.groupby('ID_Loja').sum()\n",
    "fat_loja = fat_loja.sort_values(by='Valor_Final',ascending=False)\n",
    "fat_loja"
   ]
  },
  {
   "attachments": {},
   "cell_type": "markdown",
   "metadata": {},
   "source": [
    "### Calcular Quantidade de produtos vendidos por loja"
   ]
  },
  {
   "cell_type": "code",
   "execution_count": 25,
   "metadata": {},
   "outputs": [
    {
     "data": {
      "text/html": [
       "<div>\n",
       "<style scoped>\n",
       "    .dataframe tbody tr th:only-of-type {\n",
       "        vertical-align: middle;\n",
       "    }\n",
       "\n",
       "    .dataframe tbody tr th {\n",
       "        vertical-align: top;\n",
       "    }\n",
       "\n",
       "    .dataframe thead th {\n",
       "        text-align: right;\n",
       "    }\n",
       "</style>\n",
       "<table border=\"1\" class=\"dataframe\">\n",
       "  <thead>\n",
       "    <tr style=\"text-align: right;\">\n",
       "      <th></th>\n",
       "      <th>Quantidade</th>\n",
       "    </tr>\n",
       "    <tr>\n",
       "      <th>ID_Loja</th>\n",
       "      <th></th>\n",
       "    </tr>\n",
       "  </thead>\n",
       "  <tbody>\n",
       "    <tr>\n",
       "      <th>307</th>\n",
       "      <td>24573</td>\n",
       "    </tr>\n",
       "    <tr>\n",
       "      <th>199</th>\n",
       "      <td>20119</td>\n",
       "    </tr>\n",
       "    <tr>\n",
       "      <th>306</th>\n",
       "      <td>12215</td>\n",
       "    </tr>\n",
       "  </tbody>\n",
       "</table>\n",
       "</div>"
      ],
      "text/plain": [
       "         Quantidade\n",
       "ID_Loja            \n",
       "307           24573\n",
       "199           20119\n",
       "306           12215"
      ]
     },
     "execution_count": 25,
     "metadata": {},
     "output_type": "execute_result"
    }
   ],
   "source": [
    "qtd_loja = df[['Quantidade','ID_Loja']].groupby('ID_Loja').sum().sort_values(by='Quantidade',ascending=False)\n",
    "qtd_loja"
   ]
  },
  {
   "attachments": {},
   "cell_type": "markdown",
   "metadata": {},
   "source": [
    "### Calcular o ticket Médio dos Produtos por Loja"
   ]
  },
  {
   "cell_type": "code",
   "execution_count": 26,
   "metadata": {},
   "outputs": [
    {
     "data": {
      "text/html": [
       "<div>\n",
       "<style scoped>\n",
       "    .dataframe tbody tr th:only-of-type {\n",
       "        vertical-align: middle;\n",
       "    }\n",
       "\n",
       "    .dataframe tbody tr th {\n",
       "        vertical-align: top;\n",
       "    }\n",
       "\n",
       "    .dataframe thead th {\n",
       "        text-align: right;\n",
       "    }\n",
       "</style>\n",
       "<table border=\"1\" class=\"dataframe\">\n",
       "  <thead>\n",
       "    <tr style=\"text-align: right;\">\n",
       "      <th></th>\n",
       "      <th>Ticket_Medio</th>\n",
       "    </tr>\n",
       "    <tr>\n",
       "      <th>ID_Loja</th>\n",
       "      <th></th>\n",
       "    </tr>\n",
       "  </thead>\n",
       "  <tbody>\n",
       "    <tr>\n",
       "      <th>306</th>\n",
       "      <td>141.125961</td>\n",
       "    </tr>\n",
       "    <tr>\n",
       "      <th>199</th>\n",
       "      <td>108.410164</td>\n",
       "    </tr>\n",
       "    <tr>\n",
       "      <th>307</th>\n",
       "      <td>84.631442</td>\n",
       "    </tr>\n",
       "  </tbody>\n",
       "</table>\n",
       "</div>"
      ],
      "text/plain": [
       "         Ticket_Medio\n",
       "ID_Loja              \n",
       "306        141.125961\n",
       "199        108.410164\n",
       "307         84.631442"
      ]
     },
     "execution_count": 26,
     "metadata": {},
     "output_type": "execute_result"
    }
   ],
   "source": [
    "ticket_medio = (fat_loja['Valor_Final'] /qtd_loja['Quantidade']).to_frame().rename(columns={0:'Ticket_Medio'}).sort_values(by='Ticket_Medio',ascending=False)\n",
    "ticket_medio"
   ]
  },
  {
   "cell_type": "code",
   "execution_count": 39,
   "metadata": {},
   "outputs": [],
   "source": [
    "plt.rcParams['figure.figsize'] = (10,5)\n",
    "plt.rcParams['xtick.labelsize'] = 10\n",
    "plt.rcParams['ytick.labelsize'] = 10\n",
    "plt.rcParams['font.size'] = 15 \n",
    "plt.rcParams['axes.titlesize'] = 20\n",
    "     "
   ]
  },
  {
   "cell_type": "code",
   "execution_count": 40,
   "metadata": {},
   "outputs": [
    {
     "data": {
      "image/png": "[encoded data removed]",
      "text/plain": [
       "<Figure size 1000x500 with 1 Axes>"
      ]
     },
     "metadata": {},
     "output_type": "display_data"
    }
   ],
   "source": [
    "sns.boxplot(x = df['Valor_Final'])\n",
    "plt.show()"
   ]
  },
  {
   "cell_type": "code",
   "execution_count": 43,
   "metadata": {},
   "outputs": [],
   "source": [
    "df['Dayofweeksend'] = df['Data'].dt.dayofweek"
   ]
  },
  {
   "cell_type": "code",
   "execution_count": 46,
   "metadata": {},
   "outputs": [
    {
     "data": {
      "image/png": "[encoded data removed]",
      "text/plain": [
       "<Figure size 1000x500 with 1 Axes>"
      ]
     },
     "metadata": {},
     "output_type": "display_data"
    }
   ],
   "source": [
    "\n",
    "x = df['Dayofweeksend'].value_counts().index\n",
    "y = df['Dayofweeksend'].value_counts().values\n",
    "sns.barplot( x=x, y=y ) \n",
    "plt.show()"
   ]
  },
  {
   "cell_type": "code",
   "execution_count": 51,
   "metadata": {},
   "outputs": [],
   "source": [
    "df = df.drop(columns=['Dayofweeksend'])"
   ]
  },
  {
   "cell_type": "code",
   "execution_count": 52,
   "metadata": {},
   "outputs": [
    {
     "name": "stderr",
     "output_type": "stream",
     "text": [
      "/tmp/ipykernel_425/1299480023.py:1: FutureWarning: The default value of numeric_only in DataFrame.corr is deprecated. In a future version, it will default to False. Select only valid columns or specify the value of numeric_only to silence this warning.\n",
      "  sns.heatmap(df.corr(), annot=True, cmap=\"PiYG\")\n"
     ]
    },
    {
     "data": {
      "image/png": "[encoded data removed]",
      "text/plain": [
       "<Figure size 1000x500 with 2 Axes>"
      ]
     },
     "metadata": {},
     "output_type": "display_data"
    }
   ],
   "source": [
    "sns.heatmap(df.corr(), annot=True, cmap=\"PiYG\")\n",
    "plt.show()"
   ]
  },
  {
   "cell_type": "code",
   "execution_count": 54,
   "metadata": {},
   "outputs": [
    {
     "data": {
      "image/png": "[encoded data removed]",
      "text/plain": [
       "<Figure size 1000x500 with 1 Axes>"
      ]
     },
     "metadata": {},
     "output_type": "display_data"
    }
   ],
   "source": [
    "df.groupby(df[\"Data\"].dt.month)[\"Valor_Final\"].sum().plot(color='green', label='Ano 2008')\n",
    "plt.title(\"Vendas x Mês\")\n",
    "plt.xlabel(\"Mês\")\n",
    "plt.ylabel(\"Vendas\")\n",
    "plt.legend()\n",
    "plt.show()"
   ]
  }
 ],
 "metadata": {
  "kernelspec": {
   "display_name": "Python 3",
   "language": "python",
   "name": "python3"
  },
  "language_info": {
   "codemirror_mode": {
    "name": "ipython",
    "version": 3
   },
   "file_extension": ".py",
   "mimetype": "text/x-python",
   "name": "python",
   "nbconvert_exporter": "python",
   "pygments_lexer": "ipython3",
   "version": "3.10.6"
  },
  "orig_nbformat": 4,
  "vscode": {
   "interpreter": {
    "hash": "916dbcbb3f70747c44a77c7bcd40155683ae19c65e1c03b4aa3499c5328201f1"
   }
  }
 },
 "nbformat": 4,
 "nbformat_minor": 2
}
