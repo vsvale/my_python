{
 "cells": [
  {
   "cell_type": "code",
   "execution_count": 16,
   "metadata": {},
   "outputs": [],
   "source": [
    "def evenOdd(num:int) -> str:\n",
    "  \"\"\"\n",
    "  Returns the string \"even\", \"odd\", or \"UNKNOWN\".\n",
    "\n",
    "  Args:\n",
    "    num (int): The number to be tested as even or odd\n",
    "    \n",
    "  Returns:\n",
    "    str: \"even\" if the number is even, \"odd\" if the number is odd or \"UNKNOWN\"\n",
    "    \n",
    "  Examples:\n",
    "    evenOdd(32)\n",
    "    evenOdd(13)\n",
    "  \n",
    "  \"\"\"\n",
    "  assert type(num) == int, f\"Expected num to be of type int but found {type(num)}\"\n",
    "\n",
    "  if num % 2 == 0:\n",
    "    return \"even\"\n",
    "  elif num % 2 == 1:\n",
    "    return \"odd\"\n",
    "  else:\n",
    "    return \"UNKNOWN\""
   ]
  },
  {
   "cell_type": "code",
   "execution_count": 5,
   "metadata": {},
   "outputs": [
    {
     "name": "stdout",
     "output_type": "stream",
     "text": [
      "Test #1 passed\n",
      "Test #2 passed\n",
      "Test #7 passed\n"
     ]
    }
   ],
   "source": [
    "result = evenOdd(101)\n",
    "assert \"odd\" == result, f\"Expected odd, found {result}\"\n",
    "print(\"Test #1 passed\")\n",
    "\n",
    "result = evenOdd(400)\n",
    "assert \"even\" == result, f\"Expected even, found {result}\"\n",
    "print(\"Test #2 passed\")\n",
    "\n",
    "value = 1/3\n",
    "expected = \"UNKNOWN\"\n",
    "result = evenOdd(value)\n",
    "assert expected == result, f\"Expected {expected}, found {result} for {value}\"\n",
    "print(\"Test #7 passed\")\n"
   ]
  },
  {
   "cell_type": "code",
   "execution_count": 17,
   "metadata": {},
   "outputs": [],
   "source": [
    "def evenOddInt(num:int, evenLabel:str = \"even\", oddLabel:str = \"odd\") -> str:\n",
    "  if num % 2 == 0:\n",
    "    return evenLabel\n",
    "  elif num % 2 == 1:\n",
    "    return oddLabel\n",
    "  else:\n",
    "    return \"UNKNOWN\""
   ]
  },
  {
   "cell_type": "code",
   "execution_count": 7,
   "metadata": {},
   "outputs": [
    {
     "name": "stdout",
     "output_type": "stream",
     "text": [
      "odd\n",
      "even\n"
     ]
    }
   ],
   "source": [
    "print( evenOddInt(41, \"even\", \"odd\") )\n",
    "print( evenOddInt(42, \"even\", \"odd\") )"
   ]
  },
  {
   "cell_type": "code",
   "execution_count": 8,
   "metadata": {},
   "outputs": [],
   "source": [
    "def testEvenOddInt(value, evenLabel, oddLabel, expected):\n",
    "  result = evenOddInt(value, evenLabel, oddLabel)\n",
    "  \n",
    "  assert expected == result, f\"Expected {expected}, found {result} for {value}\"\n",
    "  print(f\"Test {value}/{evenLabel}/{oddLabel} passed\")"
   ]
  },
  {
   "cell_type": "code",
   "execution_count": 9,
   "metadata": {},
   "outputs": [
    {
     "name": "stdout",
     "output_type": "stream",
     "text": [
      "Test 0.3333333333333333/what/ever passed\n"
     ]
    }
   ],
   "source": [
    "testEvenOddInt(1/3, \"what\", \"ever\", \"UNKNOWN\")"
   ]
  },
  {
   "cell_type": "code",
   "execution_count": 10,
   "metadata": {},
   "outputs": [
    {
     "name": "stdout",
     "output_type": "stream",
     "text": [
      "Test -1/even/odd passed\n"
     ]
    }
   ],
   "source": [
    "testEvenOddInt(-1, \"even\", \"odd\", \"odd\")"
   ]
  },
  {
   "cell_type": "code",
   "execution_count": 11,
   "metadata": {},
   "outputs": [
    {
     "name": "stdout",
     "output_type": "stream",
     "text": [
      "Test 0/even/odd passed\n"
     ]
    }
   ],
   "source": [
    "testEvenOddInt(0, \"even\", \"odd\", \"even\")"
   ]
  },
  {
   "cell_type": "code",
   "execution_count": 12,
   "metadata": {},
   "outputs": [
    {
     "name": "stdout",
     "output_type": "stream",
     "text": [
      "Test 1/even/odd passed\n"
     ]
    }
   ],
   "source": [
    "testEvenOddInt(1, \"even\", \"odd\", \"odd\")"
   ]
  },
  {
   "cell_type": "code",
   "execution_count": 13,
   "metadata": {},
   "outputs": [
    {
     "name": "stdout",
     "output_type": "stream",
     "text": [
      "Test 2/even/odd passed\n"
     ]
    }
   ],
   "source": [
    "testEvenOddInt(2, \"even\", \"odd\", \"even\")"
   ]
  },
  {
   "cell_type": "code",
   "execution_count": 14,
   "metadata": {},
   "outputs": [
    {
     "name": "stdout",
     "output_type": "stream",
     "text": [
      "Test 400/pair/impair passed\n"
     ]
    }
   ],
   "source": [
    "testEvenOddInt(400, \"pair\", \"impair\", \"pair\")"
   ]
  },
  {
   "cell_type": "code",
   "execution_count": 15,
   "metadata": {},
   "outputs": [
    {
     "name": "stdout",
     "output_type": "stream",
     "text": [
      "Test 5/zυγός/περιττός passed\n"
     ]
    }
   ],
   "source": [
    "testEvenOddInt(5, \"zυγός\", \"περιττός\", \"περιττός\")"
   ]
  }
 ],
 "metadata": {
  "kernelspec": {
   "display_name": "Python 3",
   "language": "python",
   "name": "python3"
  },
  "language_info": {
   "codemirror_mode": {
    "name": "ipython",
    "version": 3
   },
   "file_extension": ".py",
   "mimetype": "text/x-python",
   "name": "python",
   "nbconvert_exporter": "python",
   "pygments_lexer": "ipython3",
   "version": "3.10.6"
  },
  "orig_nbformat": 4,
  "vscode": {
   "interpreter": {
    "hash": "916dbcbb3f70747c44a77c7bcd40155683ae19c65e1c03b4aa3499c5328201f1"
   }
  }
 },
 "nbformat": 4,
 "nbformat_minor": 2
}
