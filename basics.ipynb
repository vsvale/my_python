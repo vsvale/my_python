{
 "cells": [
  {
   "attachments": {},
   "cell_type": "markdown",
   "metadata": {},
   "source": [
    "### Check Version"
   ]
  },
  {
   "cell_type": "code",
   "execution_count": 4,
   "metadata": {},
   "outputs": [
    {
     "name": "stdout",
     "output_type": "stream",
     "text": [
      "Python 3.10.6\n"
     ]
    }
   ],
   "source": [
    "!python3 --version"
   ]
  },
  {
   "attachments": {},
   "cell_type": "markdown",
   "metadata": {},
   "source": [
    "### Hello World"
   ]
  },
  {
   "cell_type": "code",
   "execution_count": 1,
   "metadata": {},
   "outputs": [
    {
     "name": "stdout",
     "output_type": "stream",
     "text": [
      "Hello world!\n",
      "Hello world!\n",
      "Hello\n",
      "world\n",
      "Hello world!\n",
      "Helo...Wolrd...!\n",
      "Hello\n",
      "      W\n",
      "        o\n",
      "          r\n",
      "            l\n",
      "              d!\n",
      "  \n",
      "13\n",
      "H w\n",
      "Hell ld!\n",
      "!dlrow wolleH\n",
      "False\n"
     ]
    }
   ],
   "source": [
    "#function print Hello world\n",
    "def main():\n",
    "  print('Hello world!')\n",
    "  print('Hello','world!') #put space automatically\n",
    "  print('Hello') #print text in a new line\n",
    "  print('world')\n",
    "  print('Hello',end=' ') #The value of end is appended to the output and the next print will continue from here\n",
    "  print('world!')\n",
    "  print('Helo','Wolrd','!',sep='...')\n",
    "  print('''Hello\n",
    "      W\n",
    "        o\n",
    "          r\n",
    "            l\n",
    "              d!\n",
    "  ''') #print string as is\n",
    "\n",
    "  helloWorld = 'Hellow world!'\n",
    "\n",
    "  print(len(helloWorld))\n",
    "  print(helloWorld[0],helloWorld[-6])\n",
    "  print(helloWorld[:4],helloWorld[-3:])\n",
    "  print(helloWorld[::-1]) #string in reverse\n",
    "  print('word' in helloWorld)\n",
    "\n",
    "if __name__ == '__main__': #It executes the main() function only if this files is executed as the main program\n",
    "  main()"
   ]
  },
  {
   "attachments": {},
   "cell_type": "markdown",
   "metadata": {},
   "source": [
    "### Function greet with Test"
   ]
  },
  {
   "cell_type": "code",
   "execution_count": 12,
   "metadata": {},
   "outputs": [
    {
     "name": "stdout",
     "output_type": "stream",
     "text": [
      "Hello Vinicius\n"
     ]
    }
   ],
   "source": [
    "from mock import patch\n",
    "def greet(name):\n",
    "    print('Hello',name)\n",
    "\n",
    "@patch('builtins.print')\n",
    "def test_greet(mock_print):\n",
    "    greet('John')\n",
    "    mock_print.assert_called_with('Hello', 'John')\n",
    "    greet('Eric')\n",
    "    mock_print.assert_called_with('Hello', 'Eric')\n",
    "\n",
    "test_greet()\n",
    "greet('Vinicius')"
   ]
  },
  {
   "attachments": {},
   "cell_type": "markdown",
   "metadata": {},
   "source": [
    "### Function context"
   ]
  },
  {
   "cell_type": "code",
   "execution_count": 19,
   "metadata": {},
   "outputs": [
    {
     "name": "stdout",
     "output_type": "stream",
     "text": [
      "outside of function\n",
      "inside of function\n",
      "None\n"
     ]
    }
   ],
   "source": [
    "value = 'outside of function'\n",
    "\n",
    "print(value)\n",
    "\n",
    "def context():\n",
    "  value = 'inside of function'\n",
    "  print(value)\n",
    "\n",
    "value = context()\n",
    "\n",
    "print(value)"
   ]
  },
  {
   "attachments": {},
   "cell_type": "markdown",
   "metadata": {},
   "source": [
    "### Try print value"
   ]
  },
  {
   "cell_type": "code",
   "execution_count": 20,
   "metadata": {},
   "outputs": [
    {
     "name": "stdout",
     "output_type": "stream",
     "text": [
      "Variable not exist\n"
     ]
    }
   ],
   "source": [
    "value = \"value\"\n",
    "\n",
    "del value\n",
    "\n",
    "try:\n",
    "    print(value)\n",
    "except:\n",
    "    print('Variable not exist')"
   ]
  },
  {
   "attachments": {},
   "cell_type": "markdown",
   "metadata": {},
   "source": [
    "### Salary"
   ]
  },
  {
   "cell_type": "code",
   "execution_count": 5,
   "metadata": {},
   "outputs": [
    {
     "data": {
      "text/plain": [
       "35360"
      ]
     },
     "execution_count": 5,
     "metadata": {},
     "output_type": "execute_result"
    }
   ],
   "source": [
    "def salary(hoursWorkday, costperHour):\n",
    "    year = 365\n",
    "    sundays = 52\n",
    "    saturdays = 52\n",
    "    vacation = 30\n",
    "    holydays = 10\n",
    "    workdays = year - sundays - saturdays - vacation - holydays\n",
    "    return (hoursWorkday*costperHour) * workdays\n",
    "\n",
    "salary(8,20)"
   ]
  },
  {
   "attachments": {},
   "cell_type": "markdown",
   "metadata": {},
   "source": [
    "### Zodiac sign"
   ]
  },
  {
   "cell_type": "code",
   "execution_count": 6,
   "metadata": {},
   "outputs": [
    {
     "data": {
      "text/plain": [
       "'Virgo'"
      ]
     },
     "execution_count": 6,
     "metadata": {},
     "output_type": "execute_result"
    }
   ],
   "source": [
    "class Person():\n",
    "\n",
    "  def __init__(self,name,lastname, birthdate):\n",
    "    self.name = name\n",
    "    self.lasname = lastname\n",
    "    self.birthdate = birthdate\n",
    "  \n",
    "  def zodiac_sign(self):\n",
    "    from dateutil import parser\n",
    "    \n",
    "    try:\n",
    "      datetime = parser.parse(str(self.birthdate),dayfirst=True)\n",
    "    except:\n",
    "      return 'Not a valid date'\n",
    "    \n",
    "    month, day =  datetime.month, datetime.day\n",
    "\n",
    "    if month == 3 and day >= 21:\n",
    "      return 'Aries'\n",
    "    elif month == 4 and day <= 19:\n",
    "      return 'Aries'\n",
    "    elif month == 4 and day >= 20:\n",
    "      return 'Taurus'\n",
    "    elif month == 5 and day <= 20 :\n",
    "      return 'Taurus'\n",
    "    elif month == 5  and day >= 21 :\n",
    "      return 'Gemini'\n",
    "    elif month == 6 and day <= 20:\n",
    "      return 'Gemini'\n",
    "    elif month == 6  and day >= 21 :\n",
    "      return 'Cancer'\n",
    "    elif month == 7 and day <= 22:\n",
    "      return 'Cancer'\n",
    "    elif month == 7 and day >= 23:\n",
    "      return 'Leo'\n",
    "    elif month == 8 and day <= 22:\n",
    "      return 'Leo'\n",
    "    elif month == 8 and day >= 23:\n",
    "      return 'Virgo'\n",
    "    elif month == 9 and day <= 22:\n",
    "      return 'Virgo'\n",
    "    elif month == 9 and day >= 23:\n",
    "      return 'Libra'\n",
    "    elif month == 10 and day <= 22:\n",
    "      return 'Libra'\n",
    "    elif month == 10 and day >= 23:\n",
    "      return 'Scorpio'\n",
    "    elif month == 11 and day <= 21:\n",
    "      return 'Scorpio'\n",
    "    elif month == 11 and day >= 22:\n",
    "      return 'Sagittarius'\n",
    "    elif month == 12 and day <= 21:\n",
    "      return 'Sagittarius'\n",
    "    elif month == 12 and day >= 22:\n",
    "      return 'Capricorn'\n",
    "    elif month == 1 and day <= 19:\n",
    "      return 'Capricorn'\n",
    "    elif month == 1 and day >= 20:\n",
    "      return 'Aquarius'\n",
    "    elif month == 2 and day <= 18:\n",
    "      return 'Aquarius'\n",
    "    elif month == 2 and day >= 19:\n",
    "      return 'Pisces'\n",
    "    elif month == 3 and day <= 20:\n",
    "      return 'Pisces'\n",
    "    else:\n",
    "      return 'Not Found'\n",
    "\n",
    "maria = Person('Maria','Silva','06/09/1996')\n",
    "maria.zodiac_sign()\n"
   ]
  },
  {
   "attachments": {},
   "cell_type": "markdown",
   "metadata": {},
   "source": [
    "### Flight"
   ]
  },
  {
   "cell_type": "code",
   "execution_count": 2,
   "metadata": {},
   "outputs": [
    {
     "name": "stdout",
     "output_type": "stream",
     "text": [
      "Departure 🛫\n",
      "Still Travelling ☁ ✈ ☁\n",
      "Still Travelling ☁ ✈ ☁\n",
      "Still Travelling ☁ ✈ ☁\n",
      "Still Travelling ☁ ✈ ☁\n",
      "Still Travelling ☁ ✈ ☁\n",
      "Still Travelling ☁ ✈ ☁\n",
      "Arrival 🛬\n"
     ]
    }
   ],
   "source": [
    "from time import sleep\n",
    "def itIsOver():\n",
    "  print('Departure 🛫')\n",
    "  flightTime = 3\n",
    "  while (flightTime > 0):\n",
    "    sleep(flightTime)\n",
    "    print('Still Travelling ☁ ✈ ☁')\n",
    "    flightTime = flightTime - 0.5\n",
    "  print('Arrival 🛬')\n",
    "\n",
    "if __name__ == '__main__':\n",
    "  itIsOver()"
   ]
  },
  {
   "attachments": {},
   "cell_type": "markdown",
   "metadata": {},
   "source": [
    "### Multiple args sum"
   ]
  },
  {
   "cell_type": "code",
   "execution_count": 21,
   "metadata": {},
   "outputs": [
    {
     "data": {
      "text/plain": [
       "9"
      ]
     },
     "execution_count": 21,
     "metadata": {},
     "output_type": "execute_result"
    }
   ],
   "source": [
    "def sum_sum(*args):\n",
    "    return sum([x for x in args])\n",
    "\n",
    "sum_sum(2,3,4)"
   ]
  },
  {
   "attachments": {},
   "cell_type": "markdown",
   "metadata": {},
   "source": [
    "### Bayesed Function"
   ]
  },
  {
   "cell_type": "code",
   "execution_count": 22,
   "metadata": {},
   "outputs": [
    {
     "name": "stdout",
     "output_type": "stream",
     "text": [
      "P(A|B) = 0.214%\n"
     ]
    }
   ],
   "source": [
    "# calculate P(A|B) given P(A), P(B|A), P(B|not A)\n",
    "def bayes_theorem(p_a, p_b_given_a, p_b_given_not_a):\n",
    "\t# calculate P(not A)\n",
    "\tnot_a = 1 - p_a\n",
    "\t# calculate P(B)\n",
    "\tp_b = p_b_given_a * p_a + p_b_given_not_a * not_a\n",
    "\t# calculate P(A|B)\n",
    "\tp_a_given_b = (p_b_given_a * p_a) / p_b\n",
    "\treturn p_a_given_b\n",
    " \n",
    "# P(A)\n",
    "p_a = 0.04\n",
    "# P(B|A)\n",
    "p_b_given_a = 0.05\n",
    "# P(B|not A)\n",
    "p_b_given_not_a = 0.97\n",
    "# calculate P(A|B)\n",
    "result = bayes_theorem(p_a, p_b_given_a, p_b_given_not_a)\n",
    "# summarize\n",
    "print('P(A|B) = %.3f%%' % (result * 100))"
   ]
  },
  {
   "attachments": {},
   "cell_type": "markdown",
   "metadata": {},
   "source": [
    "### Chunk Function"
   ]
  },
  {
   "cell_type": "code",
   "execution_count": 1,
   "metadata": {},
   "outputs": [
    {
     "data": {
      "text/plain": [
       "'chunk-chunk-chunk-chunk-chunck'"
      ]
     },
     "execution_count": 1,
     "metadata": {},
     "output_type": "execute_result"
    }
   ],
   "source": [
    "def chunck(n):\n",
    "  if n == 0:\n",
    "    return None\n",
    "  if n == 1:\n",
    "    return 'chunck'\n",
    "  return  'chunk-' + chunck(n-1)\n",
    "\n",
    "chunck(5)"
   ]
  },
  {
   "attachments": {},
   "cell_type": "markdown",
   "metadata": {},
   "source": [
    "### Raise"
   ]
  },
  {
   "cell_type": "code",
   "execution_count": 3,
   "metadata": {},
   "outputs": [
    {
     "ename": "RuntimeError",
     "evalue": "Error: value is not int",
     "output_type": "error",
     "traceback": [
      "\u001b[0;31m---------------------------------------------------------------------------\u001b[0m",
      "\u001b[0;31mRuntimeError\u001b[0m                              Traceback (most recent call last)",
      "Cell \u001b[0;32mIn[3], line 4\u001b[0m\n\u001b[1;32m      1\u001b[0m x \u001b[39m=\u001b[39m \u001b[39m\"\u001b[39m\u001b[39mhello\u001b[39m\u001b[39m\"\u001b[39m\n\u001b[1;32m      3\u001b[0m \u001b[39mif\u001b[39;00m \u001b[39mtype\u001b[39m(x) \u001b[39mis\u001b[39;00m \u001b[39mnot\u001b[39;00m \u001b[39mint\u001b[39m:\n\u001b[0;32m----> 4\u001b[0m   \u001b[39mraise\u001b[39;00m \u001b[39mRuntimeError\u001b[39;00m(\u001b[39m'\u001b[39m\u001b[39mError: value is not int\u001b[39m\u001b[39m'\u001b[39m)\n",
      "\u001b[0;31mRuntimeError\u001b[0m: Error: value is not int"
     ]
    }
   ],
   "source": [
    "x = \"hello\"\n",
    "\n",
    "if type(x) is not int:\n",
    "  raise RuntimeError('Error: value is not int')"
   ]
  },
  {
   "cell_type": "markdown",
   "metadata": {},
   "source": []
  },
  {
   "cell_type": "code",
   "execution_count": 2,
   "metadata": {},
   "outputs": [
    {
     "ename": "AssertionError",
     "evalue": "Expected best_food to be of type str but found <class 'int'> instead",
     "output_type": "error",
     "traceback": [
      "\u001b[0;31m---------------------------------------------------------------------------\u001b[0m",
      "\u001b[0;31mAssertionError\u001b[0m                            Traceback (most recent call last)",
      "Cell \u001b[0;32mIn[2], line 2\u001b[0m\n\u001b[1;32m      1\u001b[0m best_food \u001b[39m=\u001b[39m \u001b[39m1\u001b[39m\n\u001b[0;32m----> 2\u001b[0m \u001b[39massert\u001b[39;00m \u001b[39mtype\u001b[39m(best_food) \u001b[39m==\u001b[39m \u001b[39mstr\u001b[39m, \u001b[39mf\u001b[39m\u001b[39m\"\u001b[39m\u001b[39mExpected best_food to be of type str but found \u001b[39m\u001b[39m{\u001b[39;00m\u001b[39mtype\u001b[39m(best_food)\u001b[39m}\u001b[39;00m\u001b[39m instead\u001b[39m\u001b[39m\"\u001b[39m\n",
      "\u001b[0;31mAssertionError\u001b[0m: Expected best_food to be of type str but found <class 'int'> instead"
     ]
    }
   ],
   "source": [
    "best_food = 1\n",
    "assert type(best_food) == str, f\"Expected best_food to be of type str but found {type(best_food)} instead\""
   ]
  },
  {
   "attachments": {},
   "cell_type": "markdown",
   "metadata": {},
   "source": [
    "### False"
   ]
  },
  {
   "cell_type": "code",
   "execution_count": 9,
   "metadata": {},
   "outputs": [],
   "source": [
    "def bool_it(object) -> bool:\n",
    "  return bool(object)"
   ]
  },
  {
   "cell_type": "code",
   "execution_count": 14,
   "metadata": {},
   "outputs": [
    {
     "data": {
      "text/plain": [
       "False"
      ]
     },
     "execution_count": 14,
     "metadata": {},
     "output_type": "execute_result"
    }
   ],
   "source": [
    "any([\n",
    "    bool_it(False),\n",
    "    bool_it(None),\n",
    "    bool_it(0),\n",
    "    bool_it(0.0),\n",
    "    bool_it(range(0)),\n",
    "    bool_it([]),\n",
    "    bool_it({}),\n",
    "    bool_it(()),\n",
    "    bool_it(''),\n",
    "\n",
    "])"
   ]
  },
  {
   "attachments": {},
   "cell_type": "markdown",
   "metadata": {},
   "source": [
    "### Iterable"
   ]
  },
  {
   "cell_type": "code",
   "execution_count": 15,
   "metadata": {},
   "outputs": [],
   "source": [
    "lista = [1,2,3,4,5]\n",
    "lista_en = ['one','two','three','four','five']"
   ]
  },
  {
   "cell_type": "code",
   "execution_count": 17,
   "metadata": {},
   "outputs": [
    {
     "name": "stdout",
     "output_type": "stream",
     "text": [
      "1\n",
      "2\n",
      "3\n"
     ]
    }
   ],
   "source": [
    "iter_num = iter(lista)\n",
    "print(next(iter_num))\n",
    "print(next(iter_num))\n",
    "print(next(iter_num))"
   ]
  },
  {
   "cell_type": "code",
   "execution_count": 19,
   "metadata": {},
   "outputs": [
    {
     "name": "stdout",
     "output_type": "stream",
     "text": [
      "1 one\n",
      "2 two\n",
      "3 three\n",
      "4 four\n",
      "5 five\n"
     ]
    }
   ],
   "source": [
    "for numero in range(len(lista_en)):\n",
    "  print(numero+1,lista_en[numero])"
   ]
  },
  {
   "cell_type": "code",
   "execution_count": 4,
   "metadata": {},
   "outputs": [
    {
     "name": "stdout",
     "output_type": "stream",
     "text": [
      "Oh! a railway track 🛤 Can I cross?\n",
      "🚂 Better wait train pass\n",
      "🚃 Better wait train pass\n",
      "🚃 Better wait train pass\n",
      "🚃 Better wait train pass\n",
      "🚃 Better wait train pass\n",
      "🚃 Better wait train pass\n",
      "🚃 Better wait train pass\n",
      "🌳🛣🌳 Let's go\n"
     ]
    }
   ],
   "source": [
    "def canIcross():\n",
    "  print('Oh! a railway track 🛤 Can I cross?')\n",
    "  views = ['🚂','🚃','🚃','🚃','🚃','🚃','🚃','🌳🛣🌳']\n",
    "  for view in views:\n",
    "      print(view,'Better wait train pass') if (view == '🚂' or view == '🚃') else print(view,\"Let's go\")\n",
    "\n",
    "if __name__ == '__main__':\n",
    "  canIcross()"
   ]
  },
  {
   "cell_type": "code",
   "execution_count": 3,
   "metadata": {},
   "outputs": [
    {
     "name": "stdout",
     "output_type": "stream",
     "text": [
      "Planets and Dwarf in order of their distance from the Sun:\n",
      "☀\n",
      "1 Mercury\n",
      "2 Venus\n",
      "3 Earth\n",
      "4 Mars\n",
      "5 Ceres\n",
      "6 Jupiter\n",
      "7 Saturn\n",
      "8 Uranus\n",
      "9 Neptune\n",
      "10 Pluto\n",
      "11 Haumea\n",
      "12 Makemake\n",
      "13 Eris\n"
     ]
    }
   ],
   "source": [
    "def planets():\n",
    "  planets = ['Mercury', 'Venus', 'Earth', 'Mars','Ceres', 'Jupiter', 'Saturn', 'Uranus', 'Neptune', 'Pluto', 'Haumea', 'Makemake','Eris']\n",
    "  key=0\n",
    "  print('Planets and Dwarf in order of their distance from the Sun:')\n",
    "  print('☀')\n",
    "  for key, value in enumerate(planets,start=1):\n",
    "    print(key, value)\n",
    "\n",
    "if __name__=='__main__':\n",
    "  planets()"
   ]
  },
  {
   "cell_type": "code",
   "execution_count": 22,
   "metadata": {},
   "outputs": [
    {
     "name": "stdout",
     "output_type": "stream",
     "text": [
      "(1, 'one')\n",
      "(2, 'two')\n",
      "(3, 'three')\n",
      "(4, 'four')\n",
      "(5, 'five')\n"
     ]
    }
   ],
   "source": [
    "for item in zip(lista,lista_en):\n",
    "  print(item)"
   ]
  },
  {
   "cell_type": "code",
   "execution_count": 5,
   "metadata": {},
   "outputs": [
    {
     "name": "stdout",
     "output_type": "stream",
     "text": [
      "100\n"
     ]
    }
   ],
   "source": [
    "def count_negatives(nums):\n",
    "    return len([num for num in nums if num < 0])\n",
    "\n",
    "if __name__=='__main__':\n",
    "    print(count_negatives([93,73,9,98,56,68,-38,99,-54,13,-84,29,79,23,-20,26,18,48,15,-45,-68,52,-46,28,-13,-37,-28,-51,67,-41,-6,-35,-30,-21,-77,-91,-9,7,-55,-69,37,74,-65,85,5,86,47,-29,69,-62,-27,-10,-8,55,-86,35,21,30,-14,-17,19,-44,-15,96,8,-89,-50,-16,-11,75,-92,53,-100,49,80,3,-96,-60,-39,44,76,-52,4,-63,-3,-67,-26,91,17,-56,-83,83,92,-34,100,34,-43,-71,64,-76,-80,-73,31,-79,-85,-57,-87,24,63,27,-23,54,43,-95,-88,32,-1,84,20,-40,59,-93,-24,51,-32,-7,12,89,-22,-75,-99,-25,-64,46,-58,66,60,0,-19,-4,61,40,-59,22,-2,-42,-94,-47,57,95,-18,-31,10,90,58,50,94,-70,36,38,-81,78,2,14,-66,-33,-97,72,65,16,45,-48,97,88,-82,82,-5,-74,87,1,-53,41,62,-49,25,-36,71,11,81,42,77,-12,-78,-98,-72,-61,33,6,39,-90,70]))"
   ]
  },
  {
   "cell_type": "code",
   "execution_count": 6,
   "metadata": {},
   "outputs": [
    {
     "name": "stdout",
     "output_type": "stream",
     "text": [
      "O numero 6 eh perfeito\n"
     ]
    }
   ],
   "source": [
    "#break and continue\n",
    "def numero_perfeito(num):\n",
    "    somadivisores = 0\n",
    "    for i in range(num):\n",
    "        if i ==0: continue #not interested in 0\n",
    "        if i == num: continue #not interested in the number itself\n",
    "        if num % i ==0: somadivisores +=  i\n",
    "    return somadivisores == num and num!=0\n",
    "\n",
    "if __name__=='__main__':\n",
    "  for a in range (1000000):\n",
    "      if numero_perfeito(a):\n",
    "        print(\"O numero \"+str(a)+\" eh perfeito\")\n",
    "        break #Stop in first perfect number"
   ]
  },
  {
   "attachments": {},
   "cell_type": "markdown",
   "metadata": {},
   "source": [
    "### Factorial!"
   ]
  },
  {
   "cell_type": "code",
   "execution_count": 1,
   "metadata": {},
   "outputs": [
    {
     "name": "stdout",
     "output_type": "stream",
     "text": [
      "120\n",
      "1\n",
      "1\n",
      "-1\n"
     ]
    }
   ],
   "source": [
    "def factorial(n):\n",
    "  try:\n",
    "    n = int(n)\n",
    "    if n < 0:\n",
    "      return -1\n",
    "    if n == 0:\n",
    "      return 1\n",
    "    else:\n",
    "      return n * factorial(n-1)\n",
    "  except:\n",
    "    print('Invalid Input')\n",
    "\n",
    "print(factorial(5))\n",
    "print(factorial(1))\n",
    "print(factorial(0))\n",
    "print(factorial(-10))"
   ]
  },
  {
   "attachments": {},
   "cell_type": "markdown",
   "metadata": {},
   "source": [
    "### Fibonacci"
   ]
  },
  {
   "cell_type": "code",
   "execution_count": 2,
   "metadata": {},
   "outputs": [
    {
     "name": "stdout",
     "output_type": "stream",
     "text": [
      "3\n"
     ]
    }
   ],
   "source": [
    "def fib(n):\n",
    "  if n < 0:\n",
    "    return -1\n",
    "  else:\n",
    "    listfib = []\n",
    "    for i in range(n):\n",
    "      if i == 0:\n",
    "        listfib.append(0)\n",
    "      elif i == 1:\n",
    "        listfib.append(1)\n",
    "      else:\n",
    "        listfib.append(listfib[i-1]+listfib[i-2])\n",
    "    return listfib[n-1]\n",
    "\n",
    "print(fib(5))"
   ]
  },
  {
   "attachments": {},
   "cell_type": "markdown",
   "metadata": {},
   "source": [
    "### Lotery"
   ]
  },
  {
   "cell_type": "code",
   "execution_count": 9,
   "metadata": {},
   "outputs": [
    {
     "name": "stdout",
     "output_type": "stream",
     "text": [
      "1 jogo : [3, 11, 22, 30, 47, 50]\n"
     ]
    }
   ],
   "source": [
    "from random import randint\n",
    "\n",
    "def lotoPick(numbers=6, numberofGames = 1):\n",
    "  numberList = [number for number in range(61)] #create a list with all available numbers in Megasena loto\n",
    "  for games in range(numberofGames): #generate games until  numberofGames\n",
    "    randList = [] #empty list\n",
    "    while len(randList) < numbers: #pick numbers until parameter numbers\n",
    "      rand = randint(1,60)\n",
    "      if rand in numberList: # only unique numbers\n",
    "        numberList.remove(rand)\n",
    "        randList.append(rand)\n",
    "      randList.sort() #sort numbers\n",
    "    print(games+1,'jogo :',randList)\n",
    "\n",
    "if __name__ == '__main__':\n",
    "  lotoPick()"
   ]
  },
  {
   "attachments": {},
   "cell_type": "markdown",
   "metadata": {},
   "source": [
    "### List operation"
   ]
  },
  {
   "cell_type": "code",
   "execution_count": 10,
   "metadata": {},
   "outputs": [
    {
     "name": "stdout",
     "output_type": "stream",
     "text": [
      "Initial list:  [1, 2]\n",
      "append 3 to last position [1, 2, 3]\n",
      "insert allow choose position:  ['zero', 1, 2, 3]\n",
      "extend append multiple elements:  ['zero', 1, 2, 3, 'monkey', 6, [6, 7], 5, 4]\n",
      "element 7 not in the list\n",
      "['zero', 1, 2, 3, 'monkey', 6, [6, 7], 5, 4]\n",
      "Removing all 6: ['zero', 1, 2, 3, 'monkey', [7], 5, 4]\n",
      "Remove 4th element and return it monkey\n",
      "Result list:  ['zero', 1, 2, 3, [7], 5, 4]\n",
      "pop can only recieve indexes\n",
      "Remove the last element and return it:  4\n",
      "Result list:  ['zero', 1, 2, 3, [7], 5]\n",
      "del list in list:  ['zero', 1, 2, 3, 5]\n"
     ]
    }
   ],
   "source": [
    "#Insert, append and extend\n",
    "example = [1,2]\n",
    "print('Initial list: ',example)\n",
    "example.append(3) #last position\n",
    "print('append 3 to last position',example)\n",
    "example.insert(0,'zero') #'zero' in a specific position. All other elements are repositioned\n",
    "print('insert allow choose position: ',example)\n",
    "example.extend(['monkey',6,[6,7],5,4])#append more elements. Parameter is a list.\n",
    "print('extend append multiple elements: ',example)\n",
    "\n",
    "\n",
    "#pop, remove e del\n",
    "try:\n",
    "  example.remove(7) #element 7 not 7 index\n",
    "except:\n",
    "  print('element 7 not in the list')\n",
    "print(example)\n",
    "\n",
    "\n",
    "#removing all 6\n",
    "if 6 in example:\n",
    "  example.remove(6) #remove 6 in list, but not in inner list\n",
    "for element in example:\n",
    "  if type(element) == list:\n",
    "    element[:] = [el for el in element if el !=6] #remove 6 in inner list\n",
    "print('Removing all 6:',example)\n",
    "      \n",
    "print('Remove 4th element and return it',example.pop(4)) #remove 4th element 'monkey' and return it\n",
    "print('Result list: ',example)\n",
    "try:\n",
    "  example.pop('zero')\n",
    "except:\n",
    "  print('pop can only recieve indexes')\n",
    "print('Remove the last element and return it: ',example.pop()) #remove the last element and return it\n",
    "print('Result list: ',example)\n",
    "\n",
    "for i,element in enumerate(example):\n",
    "  if type(element) == list:\n",
    "    del example[i] #del use index\n",
    "print('del list in list: ',example)"
   ]
  },
  {
   "cell_type": "code",
   "execution_count": 11,
   "metadata": {},
   "outputs": [
    {
     "name": "stdout",
     "output_type": "stream",
     "text": [
      "[(33, 17), (51, 9)]\n"
     ]
    }
   ],
   "source": [
    "listone = [2,8,17,33,51]\n",
    "listtwo = [1,9,17,45,96]\n",
    "\n",
    "result = [(n1,n2) for n1 in listone for n2 in listtwo if (n1+n2) % 2 == 0 and (n1+n2) % 5 == 0 ]\n",
    "\n",
    "print(result)"
   ]
  },
  {
   "cell_type": "code",
   "execution_count": 12,
   "metadata": {},
   "outputs": [
    {
     "name": "stdout",
     "output_type": "stream",
     "text": [
      "True\n",
      "True\n",
      "False\n"
     ]
    }
   ],
   "source": [
    "#any() se um valor for True retorna True\n",
    "lista = [1,2,3,4]\n",
    "print(any(lista))\n",
    "lista = [False,True,0,'']\n",
    "print(any(lista))\n",
    "lista = [False,[],0,'']\n",
    "print(any(lista))"
   ]
  },
  {
   "cell_type": "code",
   "execution_count": 13,
   "metadata": {},
   "outputs": [
    {
     "name": "stdout",
     "output_type": "stream",
     "text": [
      "True\n",
      "False\n",
      "False\n"
     ]
    }
   ],
   "source": [
    "#all() se todos os valores forem True retorna True\n",
    "lista = [1,2,3,4]\n",
    "print(all(lista))\n",
    "lista = [False,True,0,'']\n",
    "print(all(lista))\n",
    "lista = [False,[],0,'']\n",
    "print(all(lista))"
   ]
  },
  {
   "attachments": {},
   "cell_type": "markdown",
   "metadata": {},
   "source": [
    "### Set"
   ]
  },
  {
   "cell_type": "code",
   "execution_count": 14,
   "metadata": {},
   "outputs": [
    {
     "name": "stdout",
     "output_type": "stream",
     "text": [
      "Inner join {56, 37}\n",
      "Left outterjoin inclusive {37, 8, 40, 54, 56, 60}\n",
      "Left outter join exclusive {8, 40, 60, 54}\n",
      "Full outter join inclusive {37, 5, 38, 8, 40, 52, 54, 56, 59, 60}\n",
      "Full outter join exclusive {5, 8, 38, 40, 52, 54, 59, 60}\n"
     ]
    }
   ],
   "source": [
    "import random\n",
    "\n",
    "def inner(setA,setB):\n",
    " return setA.intersection(setB) #setA & setB\n",
    "\n",
    "def leftIncl(setA,setB):\n",
    "  return setA\n",
    "\n",
    "def leftExcl(setA,setB):\n",
    "  return setA.difference(setB) #setA - setB\n",
    "\n",
    "def fullIncl(setA,setB):\n",
    "  return setA.union(setB) #setA | setB\n",
    "\n",
    "def fullExcl(setA,setB):\n",
    "  return setA.symmetric_difference(setB) #setA ^ setB\n",
    "\n",
    "if __name__ == '__main__':\n",
    "    setA = set()\n",
    "    setA.add(8)\n",
    "    setA.update([37, 40, 54, 56, 60])\n",
    "    setB = set([5, 37, 38, 52, 56, 59,61])\n",
    "    setB.remove(61) #setB.clear() result in a empty set. #setB.pop() remove and return the first element. setB.discart(61) if the element not exists raise an error \n",
    "\n",
    "    print('Inner join',inner(setA,setB))\n",
    "    print('Left outterjoin inclusive',leftIncl(setA,setB))\n",
    "    print('Left outter join exclusive',leftExcl(setA,setB))\n",
    "    print('Full outter join inclusive',fullIncl(setA,setB))\n",
    "    print('Full outter join exclusive',fullExcl(setA,setB))"
   ]
  },
  {
   "attachments": {},
   "cell_type": "markdown",
   "metadata": {},
   "source": [
    "### CEP"
   ]
  },
  {
   "cell_type": "code",
   "execution_count": 15,
   "metadata": {},
   "outputs": [],
   "source": [
    "import requests\n",
    "\n",
    "def validacep(cep):\n",
    "  try:\n",
    "    response = requests.get('https://viacep.com.br/ws/'+cep+'/json')\n",
    "    if response.status_code == 400:\n",
    "      print('Page not Found')\n",
    "    if response.status_code == 200:\n",
    "      dictresp = response.json()\n",
    "      return dictresp\n",
    "  except:\n",
    "    print(cep,'is a invalid input')"
   ]
  },
  {
   "cell_type": "code",
   "execution_count": 16,
   "metadata": {},
   "outputs": [
    {
     "name": "stdout",
     "output_type": "stream",
     "text": [
      "Rua Arthur Bernardes - Poiares Caraguatatuba / SP\n"
     ]
    }
   ],
   "source": [
    "ceptest = validacep('11673230')\n",
    "print(ceptest['logradouro'],'-',ceptest['bairro'],ceptest['localidade'],'/',ceptest['uf'])"
   ]
  }
 ],
 "metadata": {
  "kernelspec": {
   "display_name": "Python 3",
   "language": "python",
   "name": "python3"
  },
  "language_info": {
   "codemirror_mode": {
    "name": "ipython",
    "version": 3
   },
   "file_extension": ".py",
   "mimetype": "text/x-python",
   "name": "python",
   "nbconvert_exporter": "python",
   "pygments_lexer": "ipython3",
   "version": "3.10.6"
  },
  "orig_nbformat": 4,
  "vscode": {
   "interpreter": {
    "hash": "916dbcbb3f70747c44a77c7bcd40155683ae19c65e1c03b4aa3499c5328201f1"
   }
  }
 },
 "nbformat": 4,
 "nbformat_minor": 2
}
