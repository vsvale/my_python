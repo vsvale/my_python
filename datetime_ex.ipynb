{
 "cells": [
  {
   "cell_type": "markdown",
   "metadata": {},
   "source": [
    "### Datetime"
   ]
  },
  {
   "cell_type": "code",
   "execution_count": 2,
   "metadata": {},
   "outputs": [],
   "source": [
    "from datetime import datetime, timedelta, date\n",
    "from dateutil import tz,parser\n",
    "import pandas as pd\n",
    "from pytz import timezone\n",
    "import pytz\n",
    "\n",
    "from_zone = tz.gettz('UTC')\n",
    "to_zone = tz.gettz('America/Sao_Paulo')"
   ]
  },
  {
   "cell_type": "code",
   "execution_count": 5,
   "metadata": {},
   "outputs": [
    {
     "name": "stdout",
     "output_type": "stream",
     "text": [
      "2\n"
     ]
    },
    {
     "data": {
      "text/plain": [
       "'Wednesday'"
      ]
     },
     "execution_count": 5,
     "metadata": {},
     "output_type": "execute_result"
    }
   ],
   "source": [
    "# dia da semana\n",
    "print(datetime.today().weekday())\n",
    "week= ['Monday','Tuesday','Wednesday','Thursday','Friday','Saturday','Sunday']\n",
    "week[datetime.today().weekday()]"
   ]
  },
  {
   "cell_type": "code",
   "execution_count": null,
   "metadata": {},
   "outputs": [
    {
     "data": {
      "text/plain": [
       "datetime.datetime(2023, 2, 7, 7, 55, 17, 818888, tzinfo=tzfile('/usr/share/zoneinfo/America/Sao_Paulo'))"
      ]
     },
     "metadata": {},
     "output_type": "display_data"
    }
   ],
   "source": [
    "# datetime em Sao Paulo\n",
    "nowbegin = datetime.now().replace(tzinfo=from_zone).astimezone(to_zone)\n",
    "nowbegin"
   ]
  },
  {
   "cell_type": "code",
   "execution_count": null,
   "metadata": {},
   "outputs": [
    {
     "data": {
      "text/plain": [
       "202302"
      ]
     },
     "metadata": {},
     "output_type": "display_data"
    }
   ],
   "source": [
    "# Anomes\n",
    "mes = str(\"0\"+str(nowbegin.month)) if nowbegin.month < 10 else str(nowbegin.month)\n",
    "\n",
    "int(str(nowbegin.year)+mes)"
   ]
  },
  {
   "cell_type": "code",
   "execution_count": null,
   "metadata": {},
   "outputs": [
    {
     "name": "stdout",
     "output_type": "stream",
     "text": [
      "Ano Atual 2023\n",
      "Ano Anterior 2022\n",
      "Ano Posterior 2024\n",
      "Data formatada 2023-02-07\n"
     ]
    }
   ],
   "source": [
    "print(\"Ano Atual\",nowbegin.year)\n",
    "print(\"Ano Anterior\",(nowbegin - pd.DateOffset(years=1)).year)\n",
    "print(\"Ano Posterior\",(nowbegin + pd.DateOffset(years=1)).year)\n",
    "print(\"Data formatada\", nowbegin.strftime(\"%Y-%m-%d\"))"
   ]
  },
  {
   "cell_type": "code",
   "execution_count": 3,
   "metadata": {},
   "outputs": [
    {
     "data": {
      "text/plain": [
       "datetime.datetime(2023, 2, 15, 12, 27, 20, 950836, tzinfo=<UTC>)"
      ]
     },
     "execution_count": 3,
     "metadata": {},
     "output_type": "execute_result"
    }
   ],
   "source": [
    "datetime.now(tz=pytz.utc)"
   ]
  },
  {
   "cell_type": "code",
   "execution_count": 3,
   "metadata": {},
   "outputs": [
    {
     "data": {
      "text/plain": [
       "datetime.date(2023, 2, 15)"
      ]
     },
     "execution_count": 3,
     "metadata": {},
     "output_type": "execute_result"
    }
   ],
   "source": [
    "today = date.today()\n",
    "today"
   ]
  },
  {
   "cell_type": "code",
   "execution_count": 4,
   "metadata": {},
   "outputs": [
    {
     "data": {
      "text/plain": [
       "datetime.date(2023, 2, 16)"
      ]
     },
     "execution_count": 4,
     "metadata": {},
     "output_type": "execute_result"
    }
   ],
   "source": [
    "tomorrow = date(today.year,today.month,today.day+1)\n",
    "tomorrow"
   ]
  },
  {
   "cell_type": "code",
   "execution_count": 6,
   "metadata": {},
   "outputs": [
    {
     "data": {
      "text/plain": [
       "datetime.date(2024, 2, 15)"
      ]
     },
     "execution_count": 6,
     "metadata": {},
     "output_type": "execute_result"
    }
   ],
   "source": [
    "date.today() + timedelta(days=365)"
   ]
  },
  {
   "cell_type": "code",
   "execution_count": 10,
   "metadata": {},
   "outputs": [
    {
     "name": "stdout",
     "output_type": "stream",
     "text": [
      "day is out of range for month\n"
     ]
    }
   ],
   "source": [
    "datein = '2023-02-29'\n",
    "try:\n",
    "    parser.parse(str(datein))\n",
    "except:\n",
    "    print('day is out of range for month')"
   ]
  },
  {
   "cell_type": "code",
   "execution_count": 11,
   "metadata": {},
   "outputs": [
    {
     "data": {
      "text/plain": [
       "False"
      ]
     },
     "execution_count": 11,
     "metadata": {},
     "output_type": "execute_result"
    }
   ],
   "source": [
    "def isLeapYear(year):\n",
    "  datetime = parser.parse(str(year))\n",
    "  lyear = datetime.year\n",
    "  if (lyear % 4 == 0 and lyear % 100 != 0) or (lyear % 400 == 0):\n",
    "    return True\n",
    "  else:\n",
    "    return False\n",
    "\n",
    "isLeapYear(2023)"
   ]
  }
 ],
 "metadata": {
  "kernelspec": {
   "display_name": "Python 3",
   "language": "python",
   "name": "python3"
  },
  "language_info": {
   "codemirror_mode": {
    "name": "ipython",
    "version": 3
   },
   "file_extension": ".py",
   "mimetype": "text/x-python",
   "name": "python",
   "nbconvert_exporter": "python",
   "pygments_lexer": "ipython3",
   "version": "3.10.6"
  },
  "orig_nbformat": 4,
  "vscode": {
   "interpreter": {
    "hash": "916dbcbb3f70747c44a77c7bcd40155683ae19c65e1c03b4aa3499c5328201f1"
   }
  }
 },
 "nbformat": 4,
 "nbformat_minor": 2
}
