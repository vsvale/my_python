{
 "cells": [
  {
   "cell_type": "code",
   "execution_count": 1,
   "metadata": {},
   "outputs": [],
   "source": [
    "class No:\n",
    "  def __init__(self,valor=None,esq=None,dir=None):\n",
    "    self.valor = valor\n",
    "    self.esq = esq\n",
    "    self.dir = dir"
   ]
  },
  {
   "cell_type": "code",
   "execution_count": 7,
   "metadata": {},
   "outputs": [],
   "source": [
    "class Arvore:\n",
    "  def __init__(self):\n",
    "    self.raiz = No()\n",
    "    self.raiz = None\n",
    "\n",
    "  def inserir(self,value):\n",
    "    new_no = No(value,None,None)\n",
    "    if self.raiz == None:\n",
    "      self.raiz =  new_no\n",
    "    else:\n",
    "      temp = self.raiz\n",
    "      inseriu = False\n",
    "\n",
    "      while (not inseriu):\n",
    "        if new_no.valor <= temp.valor:\n",
    "          if temp.esq == None:\n",
    "            temp.esq = new_no\n",
    "            inseriu = True\n",
    "          else:\n",
    "            temp = temp.esq\n",
    "        else:\n",
    "          if temp.dir == None:\n",
    "            temp.dir = new_no\n",
    "            inseriu = True\n",
    "          else:\n",
    "            temp = temp.dir\n",
    "\n",
    "  def exibir(self,noatual):\n",
    "    if noatual is not None:\n",
    "      self.exibir(noatual.esq)\n",
    "      print(noatual.valor)\n",
    "      self.exibir(noatual.dir)\n",
    "  \n",
    "  def altura(self, atual):\n",
    "    if atual == None or atual.esq == None and atual.dir == None:\n",
    "      return 0\n",
    "    else:\n",
    "        if self.altura2(atual.esq) > self.altura2(atual.dir):\n",
    "          return  1 + self.altura2(atual.esq) \n",
    "        else:\n",
    "          return  1 + self.altura2(atual.dir)\n",
    "\n",
    "  def profundidade(self,noatual):\n",
    "    if noatual is None:\n",
    "      return 0\n",
    "    else:\n",
    "      a = self.profundidade(noatual.esq)\n",
    "      b = self.profundidade(noatual.dir)\n",
    "      if noatual ==self.raiz:\n",
    "        c = 0\n",
    "      else:\n",
    "        c= 1\n",
    "      if a>b:\n",
    "        return c+a\n",
    "      else:\n",
    "        return c+b"
   ]
  },
  {
   "cell_type": "code",
   "execution_count": 3,
   "metadata": {},
   "outputs": [],
   "source": [
    "arv = Arvore()"
   ]
  },
  {
   "cell_type": "code",
   "execution_count": 4,
   "metadata": {},
   "outputs": [],
   "source": [
    "arv.inserir(1)\n",
    "arv.inserir(5)\n",
    "arv.inserir(4)\n",
    "arv.inserir(2)"
   ]
  },
  {
   "cell_type": "code",
   "execution_count": 5,
   "metadata": {},
   "outputs": [
    {
     "name": "stdout",
     "output_type": "stream",
     "text": [
      "1\n",
      "2\n",
      "4\n",
      "5\n"
     ]
    }
   ],
   "source": [
    "arv.exibir(arv.raiz)"
   ]
  },
  {
   "cell_type": "code",
   "execution_count": 8,
   "metadata": {},
   "outputs": [
    {
     "data": {
      "text/plain": [
       "4"
      ]
     },
     "execution_count": 8,
     "metadata": {},
     "output_type": "execute_result"
    }
   ],
   "source": [
    "arv.altura(arv.raiz)"
   ]
  },
  {
   "cell_type": "code",
   "execution_count": 9,
   "metadata": {},
   "outputs": [],
   "source": [
    "newno = No(1,None,None)"
   ]
  },
  {
   "cell_type": "code",
   "execution_count": 10,
   "metadata": {},
   "outputs": [
    {
     "data": {
      "text/plain": [
       "3"
      ]
     },
     "execution_count": 10,
     "metadata": {},
     "output_type": "execute_result"
    }
   ],
   "source": [
    "arv.profundidade(arv.raiz)"
   ]
  }
 ],
 "metadata": {
  "kernelspec": {
   "display_name": "Python 3",
   "language": "python",
   "name": "python3"
  },
  "language_info": {
   "codemirror_mode": {
    "name": "ipython",
    "version": 3
   },
   "file_extension": ".py",
   "mimetype": "text/x-python",
   "name": "python",
   "nbconvert_exporter": "python",
   "pygments_lexer": "ipython3",
   "version": "3.10.6"
  },
  "orig_nbformat": 4,
  "vscode": {
   "interpreter": {
    "hash": "916dbcbb3f70747c44a77c7bcd40155683ae19c65e1c03b4aa3499c5328201f1"
   }
  }
 },
 "nbformat": 4,
 "nbformat_minor": 2
}
