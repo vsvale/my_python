{
 "cells": [
  {
   "cell_type": "markdown",
   "metadata": {},
   "source": [
    "### Function print input name"
   ]
  },
  {
   "cell_type": "code",
   "execution_count": null,
   "metadata": {},
   "outputs": [],
   "source": [
    "def print_input_name():\n",
    "    name=input(\"What's your name?\")\n",
    "    print('Nice to meet you,',name)\n",
    "\n",
    "print_input_name()"
   ]
  },
  {
   "cell_type": "markdown",
   "metadata": {},
   "source": [
    "### Function GPA"
   ]
  },
  {
   "cell_type": "code",
   "execution_count": null,
   "metadata": {},
   "outputs": [],
   "source": [
    "def gpa():\n",
    "  studentGPA = 3.45\n",
    "  studentFirtName = \"Kayla\"\n",
    "  studentLastName = \"Hammon\"\n",
    "  print(studentFirtName,studentLastName,'has a GPA of', studentGPA)\n",
    "  studentGPA = float(input('What do you want to update it to? '))\n",
    "  print(studentFirtName,studentLastName,'now has a GPA of', studentGPA)\n",
    "\n",
    "gpa()"
   ]
  },
  {
   "cell_type": "markdown",
   "metadata": {},
   "source": [
    "### Luck of day"
   ]
  },
  {
   "cell_type": "code",
   "execution_count": null,
   "metadata": {},
   "outputs": [],
   "source": [
    "def luckday():\n",
    "  pick = input('Pick a number between 1 and 10: ')\n",
    "  try:\n",
    "    if not pick.isdigit():\n",
    "      raise TypeError(\"Sorry, only numbers\")\n",
    "    pick = int(pick)\n",
    "    if pick >10 or pick < 1:\n",
    "      raise Exception(\"Sorry, only numbers between 1 and 10\")\n",
    "    if pick < 5:\n",
    "      print('Enjoy the good luck a friend brings by')\n",
    "    else:\n",
    "      print('Your shoe selection will make you happy today')\n",
    "  except:\n",
    "        print('Sorry, only numbers between 1 and 10')\n",
    "\n",
    "luckday()"
   ]
  },
  {
   "cell_type": "markdown",
   "metadata": {},
   "source": [
    "### Playing song"
   ]
  },
  {
   "cell_type": "code",
   "execution_count": null,
   "metadata": {},
   "outputs": [],
   "source": [
    "def playsong():\n",
    "  isOnRepeat = True\n",
    "  while isOnRepeat:\n",
    "    print('Playing current song')\n",
    "    userInput = input('wold you like to take this song off reapeat? If so, answer yes: ')\n",
    "    if userInput.lower() == 'yes':\n",
    "      isOnRepeat = False\n",
    "  print('Playing next song')\n",
    "\n",
    "playsong()"
   ]
  },
  {
   "cell_type": "markdown",
   "metadata": {},
   "source": [
    "### Chairs and Tables"
   ]
  },
  {
   "cell_type": "code",
   "execution_count": null,
   "metadata": {},
   "outputs": [],
   "source": [
    "def chair_tables():\n",
    "  print('Choose 1,2,3 or 4', 'The price of 10 chair is equal to that of 4 tables. The price of 15 chairs and 2 tables together is 4000. The total price of 12 chairs and 3 tables is:')\n",
    "  print('1. 3500')\n",
    "  print('2. 3750')\n",
    "  print('3. 3840')\n",
    "  print('4. 3900')\n",
    "  answer = input('What is your answer 1,2,3 or 4? ')\n",
    "  if answer == '4':\n",
    "    print('Correct')\n",
    "  else:\n",
    "    print('Wrong. 4. 3900 is the answer. Chair value = 200 and table value = 500')\n",
    "\n",
    "chair_tables()"
   ]
  },
  {
   "cell_type": "markdown",
   "metadata": {},
   "source": [
    "# Secret Password"
   ]
  },
  {
   "cell_type": "code",
   "execution_count": null,
   "metadata": {},
   "outputs": [],
   "source": [
    "def password():\n",
    "  from getpass import getpass\n",
    "\n",
    "  i = 0\n",
    "  correct = False\n",
    "  while i < 3 and not correct:\n",
    "    print('What is the pass code?')\n",
    "    try:\n",
    "      passcode = getpass()\n",
    "      if not passcode:\n",
    "        print('Empty')\n",
    "      elif passcode == 'secret':\n",
    "        print('Authenticated')\n",
    "        correct = True\n",
    "      else:\n",
    "        print('Not Aunthenticated. ',i+1,'/3')\n",
    "        i = i + 1\n",
    "    except Exception as error:\n",
    "      print('Error',error)\n",
    "\n",
    "password()"
   ]
  },
  {
   "attachments": {},
   "cell_type": "markdown",
   "metadata": {},
   "source": [
    "# Classify Candidate"
   ]
  },
  {
   "cell_type": "code",
   "execution_count": null,
   "metadata": {},
   "outputs": [],
   "source": [
    "stringexp = input('How many years of experience do you have? ')\n",
    "try:\n",
    "  exp = int(stringexp)\n",
    "except:\n",
    "  print('Invalid input, must be a number')\n",
    "if exp <= 0:\n",
    "  print('Inexperienced')\n",
    "elif exp <=2.5:\n",
    "  print('Trainee')\n",
    "elif exp <= 5:\n",
    "  print('Junior')\n",
    "elif exp <=9:\n",
    "  print('Middle')\n",
    "elif exp < 15:\n",
    "  print('Senior')\n",
    "else:\n",
    "  print('Master')"
   ]
  },
  {
   "cell_type": "markdown",
   "metadata": {},
   "source": [
    "# Student Manager\n",
    "\n",
    "Get student name and grade from console input. Able to handle any number of students. Display all student name and grades once the user finishes adding students. Then implement a way to remove a student."
   ]
  },
  {
   "cell_type": "code",
   "execution_count": null,
   "metadata": {},
   "outputs": [],
   "source": [
    "class Student():\n",
    "  def __ini__(self,name, grade, birthday=\"01/01/1900\", address=\"\", phone=\"\"):\n",
    "    self.name = name\n",
    "    self.grade = grade\n",
    "    self.birthday = birthday\n",
    "    self.address = address\n",
    "    self.phone = phone\n",
    "\n",
    "class Class():\n",
    "  def __init__(self,listclass=[]):\n",
    "    self.listclass = listclass\n",
    "\n",
    "class ClassMethods():\n",
    "\n",
    "  def answername(self):\n",
    "    ans = input(\"Input student's name: \")\n",
    "    if not ans:\n",
    "      print(\"Empty input.\")\n",
    "      return answername()\n",
    "    return ans\n",
    "\n",
    "  def answergrade(self):\n",
    "    ans = input(\"Input student's grade: \")\n",
    "    if not ans:\n",
    "      print('Empty input')\n",
    "      return input()\n",
    "    elif not ans.isnumeric():\n",
    "      print(\"Not a valid grade.\")\n",
    "      return answergrade()\n",
    "    return int(ans)\n",
    "\n",
    "  def answeryorn(self):\n",
    "    ans = input(\"Do you like Insert another student? Y or N: \")\n",
    "    if not ans:\n",
    "      print(\"Empty input.\")\n",
    "      return answeryorn()\n",
    "    elif ans.lower() not in ('y','n'):\n",
    "      print('Only Y or N are valid inputs')\n",
    "      return answeryorn()\n",
    "    return ans.lower()\n",
    "\n",
    "  def insert_students(self):\n",
    "    inserting = True\n",
    "    while inserting:\n",
    "      name = self.answername()\n",
    "      grade = self.answergrade()\n",
    "      student = Student()\n",
    "      student.name = name\n",
    "      student.grade = grade\n",
    "      self.listclass.append(student)\n",
    "      yorn = self.answeryorn()\n",
    "      if yorn == 'y':\n",
    "        continue\n",
    "      else:\n",
    "        inserting = False\n",
    "      print('New Class:')\n",
    "      for obj in self.listclass:\n",
    "        print(obj.name,obj.grade)\n",
    "\n",
    "  def remove_student(self,name):\n",
    "    for i,student in enumerate(self.listclass):\n",
    "      if student.name.lower() == name.lower():\n",
    "        self.listclass.pop(i)\n",
    "    print(name+\" removed.\",'New Class:')\n",
    "    for obj in self.listclass:\n",
    "        print(obj.name,obj.grade)\n",
    "\n",
    "class ClassNew(Class,ClassMethods):\n",
    "  pass\n",
    "\n",
    "def main():\n",
    "  newclass  = ClassNew()\n",
    "  newclass.insert_students()\n",
    "  newclass.remove_student('Joao')\n",
    "  newclass.insert_students()\n",
    "\n",
    "\n",
    "\n",
    "if __name__=='__main__':\n",
    "  main()"
   ]
  },
  {
   "attachments": {},
   "cell_type": "markdown",
   "metadata": {},
   "source": [
    "# Max"
   ]
  },
  {
   "cell_type": "code",
   "execution_count": null,
   "metadata": {},
   "outputs": [],
   "source": [
    "def answernumber():\n",
    "  ans = input(\"Input a number: \")\n",
    "  if not ans:\n",
    "    print('Empty input')\n",
    "    return answernumber()\n",
    "  elif not ans.isnumeric():\n",
    "    print(\"Not a valid grade.\")\n",
    "    return answernumber()\n",
    "  return float(ans)\n",
    "\n",
    "def answeryorn():\n",
    "  ans = input(\"Do you like Insert another number? Y or N: \")\n",
    "  if not ans:\n",
    "    print(\"Empty input.\")\n",
    "    return answeryorn()\n",
    "  elif ans.lower() not in ('y','n'):\n",
    "    print('Only Y or N are valid inputs')\n",
    "    return answeryorn()\n",
    "  return ans.lower()\n",
    "\n",
    "def infinputs(listinputs=[]):\n",
    "  listinputs.append(answernumber())\n",
    "  if answeryorn()=='y':\n",
    "    return infinputs(listinputs)\n",
    "  else:\n",
    "    return listinputs\n",
    "\n",
    "def maxnumber():\n",
    "  numbers = infinputs()\n",
    "  return max(numbers)\n",
    "#\n",
    "\n",
    "def main():\n",
    "  print('Biggest number is',maxnumber())\n",
    "\n",
    "if __name__ == '__main__':\n",
    "  main()"
   ]
  },
  {
   "attachments": {},
   "cell_type": "markdown",
   "metadata": {},
   "source": [
    "# Min"
   ]
  },
  {
   "cell_type": "code",
   "execution_count": null,
   "metadata": {},
   "outputs": [],
   "source": [
    "import re\n",
    "\n",
    "stringinput = input('Insert a list of positive numbers:')\n",
    "listinput = re.split(r'\\D+',stringinput)\n",
    "numberlist = [element for element in listinput if element.isnumeric()]\n",
    "floatlist = [float(element) for element in numberlist]\n",
    "try:\n",
    "  print(min(floatlist))\n",
    "except:\n",
    "  print('Please insert at leat one positive number')"
   ]
  },
  {
   "attachments": {},
   "cell_type": "markdown",
   "metadata": {},
   "source": [
    "# Invert String"
   ]
  },
  {
   "cell_type": "code",
   "execution_count": null,
   "metadata": {},
   "outputs": [],
   "source": [
    "userinput = input('Input something: ')\n",
    "stack = \"\"\n",
    "notstack = \"\"\n",
    "for character in userinput:\n",
    "  stack = character + stack #stack, 0 receive last element\n",
    "  notstack = notstack + character\n",
    "print(stack)\n",
    "print(notstack)"
   ]
  },
  {
   "attachments": {},
   "cell_type": "markdown",
   "metadata": {},
   "source": [
    "# Divisible"
   ]
  },
  {
   "cell_type": "code",
   "execution_count": null,
   "metadata": {},
   "outputs": [],
   "source": [
    "import re\n",
    "\n",
    "def input_NumericList():\n",
    "  stringinput = input('Insert a list of positive numbers:')\n",
    "  listinput = re.split(r'\\D+',stringinput)\n",
    "  numberlist = [element for element in listinput if element.isnumeric()]\n",
    "  floatlist = [float(element) for element in numberlist]\n",
    "  return floatlist\n",
    "\n",
    "def divisible(numericlist):\n",
    "  result = []\n",
    "  try:\n",
    "    for numerator in numericlist:\n",
    "      for denominator in numericlist:\n",
    "        if numerator == denominator or denominator ==0:\n",
    "          continue\n",
    "        if numerator % denominator == 0 and [numerator,denominator] not in result:\n",
    "          result.append([numerator,denominator])\n",
    "  except ZeroDivisionError:\n",
    "    print('Error: Division by Zero')\n",
    "    result = []\n",
    "  return result\n",
    "\n",
    "def main():\n",
    "  numericlist = input_NumericList()\n",
    "  result = divisible(numericlist)\n",
    "  for element in result:\n",
    "    print(element[0],'is divisible by',element[1])\n",
    "\n",
    "if __name__ == '__main__':\n",
    "  main()"
   ]
  },
  {
   "attachments": {},
   "cell_type": "markdown",
   "metadata": {},
   "source": [
    "# Jogo Forca"
   ]
  },
  {
   "cell_type": "code",
   "execution_count": 3,
   "metadata": {},
   "outputs": [
    {
     "name": "stdout",
     "output_type": "stream",
     "text": [
      "**********YOU LOSE!************\n",
      "***********arregalei***********\n",
      "***********Fim do Jogo***********\n"
     ]
    }
   ],
   "source": [
    "import wget\n",
    "from os.path import exists\n",
    "import os\n",
    "import pandas as pd\n",
    "import random\n",
    "import re\n",
    "from IPython.display import display, Image\n",
    "from IPython.display import clear_output\n",
    "import time\n",
    "\n",
    "def jogar():\n",
    "    print('********************************')\n",
    "    print('***Bem vindo ao jogo da Forca***')\n",
    "    print('********************************')\n",
    "    \n",
    "    hang = False\n",
    "    win = False\n",
    "    inputs = []\n",
    "    forca = 0\n",
    "\n",
    "    if not exists('data/br-sem-acentos.txt'):\n",
    "        wget.download('https://raw.githubusercontent.com/vsvale/python3_parte2_avancando_na_linguagem/main/br-sem-acentos.txt','data')\n",
    "    if not exists('./img'):\n",
    "        os.mkdir('./img')\n",
    "        for i in range(11):\n",
    "            wget.download('https://raw.githubusercontent.com/vsvale/python3_parte2_avancando_na_linguagem/main/img/hang_{}.png'.format(i),'./img')\n",
    "\n",
    "    words = pd.read_csv('data/br-sem-acentos.txt',header=None)\n",
    "    words = words.rename(columns = {0:'words'})\n",
    "    words = words.where(words['words'].str.len()> 2)\n",
    "    words = words.dropna()\n",
    "    words = words.values.tolist()\n",
    "    palavra_secreta = random.choice(words)[0]\n",
    "    secret = len(palavra_secreta) * '-'\n",
    "    \n",
    "\n",
    "    while(not hang and not win):\n",
    "        if forca >= 10:\n",
    "            hang = True\n",
    "            print('**********YOU LOSE!************')\n",
    "            print('***********{}***********'.format(palavra_secreta))\n",
    "            continue\n",
    "        \n",
    "        if secret == palavra_secreta:\n",
    "            win = True\n",
    "            print('**********WINNER!************')\n",
    "            continue\n",
    "        \n",
    "        print('******ADIVINHE A PALAVRA*********')\n",
    "        print(secret)\n",
    "        print('********************************')\n",
    "\n",
    "        if not inputs:\n",
    "            print('Letras jogadas:',inputs)\n",
    "        else:\n",
    "            print('Letras jogadas:',set(inputs))\n",
    "        \n",
    "        print('Tentativas restantes:',10 - forca)\n",
    "\n",
    "        display(Image(filename='./img/hang_{}.png'.format(forca)))\n",
    "       \n",
    "        player_try = input('Escolha uma letra: ')\n",
    "\n",
    "        if len(player_try) > 1 or player_try.isdigit():\n",
    "            print('Favor informar uma Letra')\n",
    "            time.sleep(0.9)\n",
    "            clear_output(wait=True)\n",
    "            continue\n",
    "\n",
    "        if player_try in inputs:\n",
    "            print('Letra já foi jogada')\n",
    "            time.sleep(0.9)\n",
    "            clear_output(wait=True)\n",
    "            continue\n",
    "        else:\n",
    "            inputs.append(player_try)\n",
    "            letra_in = [m.start() for m in re.finditer(player_try, palavra_secreta)]\n",
    "            if not letra_in:\n",
    "                forca = forca + 1\n",
    "            else:\n",
    "                secret = ''.join([player_try if i in letra_in else a for i, a in enumerate(secret)])\n",
    "        clear_output(wait=True)\n",
    "    print('***********Fim do Jogo***********')\n",
    "\n",
    "jogar()"
   ]
  }
 ],
 "metadata": {
  "kernelspec": {
   "display_name": "Python 3",
   "language": "python",
   "name": "python3"
  },
  "language_info": {
   "codemirror_mode": {
    "name": "ipython",
    "version": 3
   },
   "file_extension": ".py",
   "mimetype": "text/x-python",
   "name": "python",
   "nbconvert_exporter": "python",
   "pygments_lexer": "ipython3",
   "version": "3.10.6"
  },
  "orig_nbformat": 4,
  "vscode": {
   "interpreter": {
    "hash": "916dbcbb3f70747c44a77c7bcd40155683ae19c65e1c03b4aa3499c5328201f1"
   }
  }
 },
 "nbformat": 4,
 "nbformat_minor": 2
}
