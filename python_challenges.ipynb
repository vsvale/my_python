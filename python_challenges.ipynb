{
 "cells": [
  {
   "cell_type": "markdown",
   "metadata": {},
   "source": [
    "### Discounted Price\n",
    "\n",
    "In this challenge, you must discount a price according to its value.\n",
    "\n",
    "If the price is 300 or above, there will be a 30% discount.\n",
    "\n",
    "If the price is between 200 and 300 (200 inclusive), there will be a 20% discount.\n",
    "\n",
    "If the price is between 100 and 200 (100 inclusive), there will be a 10% discount.\n",
    "\n",
    "If the price is less than 100, there will be a 5% discount.\n",
    "\n",
    "If the price is negative, there will be no discount."
   ]
  },
  {
   "cell_type": "code",
   "execution_count": null,
   "metadata": {},
   "outputs": [
    {
     "name": "stdout",
     "output_type": "stream",
     "text": [
      "200.0\n"
     ]
    }
   ],
   "source": [
    "def gimmediscount(price):\n",
    "  if price >= 300:\n",
    "    return price * 0.7\n",
    "  elif price >= 200:\n",
    "    return price * 0.8\n",
    "  elif price >= 100:\n",
    "    return price * 0.9\n",
    "  elif price > 0:\n",
    "    return price * 0.95\n",
    "  else:\n",
    "    return price\n",
    "\n",
    "print(gimmediscount(250))"
   ]
  },
  {
   "attachments": {},
   "cell_type": "markdown",
   "metadata": {},
   "source": [
    "#  Repetition and Concatenation\n",
    "\n",
    "In this exercise, you must implement the rep_cat function. You are given two integers, x and y, as arguments. You must convert them into strings. The string value of x must be repeated 10 times and the string value of y must be repeated 5 times.\n",
    "\n",
    "At the end, y will be concatenated to x and the resulting string must returned."
   ]
  },
  {
   "cell_type": "code",
   "execution_count": null,
   "metadata": {},
   "outputs": [],
   "source": [
    "def rep_cat(x,y):\n",
    "  strx = str(x)\n",
    "  stry = str(y)\n",
    "  str10x = strx * 10\n",
    "  str5y = stry * 5\n",
    "  return  str10x + str5y"
   ]
  },
  {
   "attachments": {},
   "cell_type": "markdown",
   "metadata": {},
   "source": [
    "# Balanced Brackets\n",
    "\n",
    "Given a string containing only square brackets, [], you must check whether the brackets are balanced or not. The brackets are said to be balanced if, for every opening bracket, there is a closing bracket.\n"
   ]
  },
  {
   "cell_type": "code",
   "execution_count": 1,
   "metadata": {},
   "outputs": [
    {
     "name": "stdout",
     "output_type": "stream",
     "text": [
      "True\n"
     ]
    }
   ],
   "source": [
    "def check_balance(brackets):\n",
    "  if not brackets:\n",
    "    return True\n",
    "\n",
    "  lenbrac = len(brackets)\n",
    "\n",
    "  if lenbrac % 2 == 1:\n",
    "    return False\n",
    "\n",
    "  if brackets.count('[') != brackets.count(']'):\n",
    "    return False\n",
    "  \n",
    "  listbrackets = list(brackets)\n",
    "\n",
    "  while lenbrac != 0:\n",
    "    \n",
    "    if listbrackets[0] == '[':\n",
    "\n",
    "      for i in range(lenbrac):\n",
    "        if listbrackets[i] == ']':\n",
    "          listbrackets.pop(i)\n",
    "          listbrackets.pop(0)\n",
    "          lenbrac = len(listbrackets)\n",
    "          if lenbrac == 0:\n",
    "            return True\n",
    "          break\n",
    "        else:\n",
    "          continue\n",
    "    else:\n",
    "      return False\n",
    "\n",
    "\n",
    "\n",
    "\n",
    "print(check_balance('[[[[][]]]]'))"
   ]
  },
  {
   "attachments": {},
   "cell_type": "markdown",
   "metadata": {},
   "source": [
    "# A Sum of Zero\n",
    "\n",
    "You must implement the check_sum() function which takes in a list and returns True if the sum of two numbers in the list is zero. If no such pair exists, return False."
   ]
  },
  {
   "cell_type": "code",
   "execution_count": 2,
   "metadata": {},
   "outputs": [
    {
     "name": "stdout",
     "output_type": "stream",
     "text": [
      "True\n"
     ]
    }
   ],
   "source": [
    "def check_sum(listzero):\n",
    "  for item in listzero:\n",
    "    if item * -1 in listzero:\n",
    "      return True\n",
    "  return False\n",
    "\n",
    "print(check_sum([10, -14, 26, 5, -3, 13, -5]))"
   ]
  },
  {
   "attachments": {},
   "cell_type": "markdown",
   "metadata": {},
   "source": [
    "# Hypotenuse\n",
    "\n",
    "c² = a² + b²"
   ]
  },
  {
   "cell_type": "code",
   "execution_count": 5,
   "metadata": {},
   "outputs": [
    {
     "data": {
      "text/plain": [
       "4.47213595499958"
      ]
     },
     "execution_count": 5,
     "metadata": {},
     "output_type": "execute_result"
    }
   ],
   "source": [
    "def hypothenuse(a,b):\n",
    "  return ((a**2) + (b**2))**0.5\n",
    "\n",
    "hypothenuse(2,4)"
   ]
  },
  {
   "attachments": {},
   "cell_type": "markdown",
   "metadata": {},
   "source": [
    "# From list to tuple\n",
    "\n",
    "The tuple will contain the list’s first element, last element, and the length of the list, in that same order"
   ]
  },
  {
   "cell_type": "code",
   "execution_count": 6,
   "metadata": {},
   "outputs": [
    {
     "name": "stdout",
     "output_type": "stream",
     "text": [
      "(34, 'Hannibal', 5)\n"
     ]
    }
   ],
   "source": [
    "my_list = [34, 82.6, \"Darth Vader\", 17, \"Hannibal\"]\n",
    "\n",
    "my_tuple = (my_list[0],my_list[-1],len(my_list))\n",
    "\n",
    "print(my_tuple)"
   ]
  },
  {
   "attachments": {},
   "cell_type": "markdown",
   "metadata": {},
   "source": [
    "# Kth Maximum Integer in a List\n",
    "\n",
    "k=2 result =66\n",
    "k=6 result = 22"
   ]
  },
  {
   "cell_type": "code",
   "execution_count": 7,
   "metadata": {},
   "outputs": [
    {
     "name": "stdout",
     "output_type": "stream",
     "text": [
      "[14, 22, 35, 40, 53, 66, 82]\n",
      "66\n",
      "22\n"
     ]
    }
   ],
   "source": [
    "test_list = [40,35,82,14,22,66,53]\n",
    "\n",
    "test_list.sort()\n",
    "print(test_list)\n",
    "k=2\n",
    "print(test_list[-k])\n",
    "k=6\n",
    "print(test_list[-k])"
   ]
  },
  {
   "attachments": {},
   "cell_type": "markdown",
   "metadata": {},
   "source": [
    "# Highs and Lows\n",
    "You must implement the count_low_high() function. Its parameter is a list of numbers.\n",
    "\n",
    "If a number is greater than 50 or divisible by 3, it will count as a high. If these conditions are not met, the number is considered a low.\n",
    "\n",
    "At the end of the function, you must return a list that contains the number of lows and highs, in that order.\n",
    "\n",
    "In case the list is empty, you may return None."
   ]
  },
  {
   "cell_type": "code",
   "execution_count": 8,
   "metadata": {},
   "outputs": [
    {
     "name": "stdout",
     "output_type": "stream",
     "text": [
      "None\n",
      "[1, 0]\n",
      "[1, 2]\n"
     ]
    }
   ],
   "source": [
    "def count_low_high(list_numbers):\n",
    "  if not list_numbers:\n",
    "    return None\n",
    "  high, low = 0,0\n",
    "  for number in list_numbers:\n",
    "    if number > 50 or number % 3 == 0:\n",
    "      high+=1\n",
    "    else:\n",
    "      low+=1\n",
    "  return [low,high]\n",
    "\n",
    "print(count_low_high([]))\n",
    "print(count_low_high([1]))\n",
    "print(count_low_high([1,51,3]))"
   ]
  },
  {
   "cell_type": "code",
   "execution_count": 9,
   "metadata": {},
   "outputs": [
    {
     "name": "stdout",
     "output_type": "stream",
     "text": [
      "None\n",
      "[0, 1]\n",
      "[2, 2]\n"
     ]
    }
   ],
   "source": [
    "def count_low_high(list_numbers):\n",
    "  if not list_numbers:\n",
    "    return None\n",
    "  high = len([number for number in list_numbers if number > 50 or number % 3 == 0])\n",
    "  low = len([number for number in list_numbers if number <= 50 or number % 3 != 0])\n",
    "  return [high,low]\n",
    "\n",
    "print(count_low_high([]))\n",
    "print(count_low_high([1]))\n",
    "print(count_low_high([1,51,3]))"
   ]
  },
  {
   "cell_type": "code",
   "execution_count": 10,
   "metadata": {},
   "outputs": [
    {
     "name": "stdout",
     "output_type": "stream",
     "text": [
      "None\n",
      "[0, 1]\n",
      "[2, 2]\n"
     ]
    }
   ],
   "source": [
    "def count_low_high(list_numbers):\n",
    "  if not list_numbers:\n",
    "    return None\n",
    "  high = list(filter(lambda n: n >50 or n % 3 ==0,list_numbers)) #filter(function, iterable)\n",
    "  low = list(filter(lambda n: n <=50 or n % 3 !=0,list_numbers))\n",
    "  return [len(high),len(low)]\n",
    "\n",
    "print(count_low_high([]))\n",
    "print(count_low_high([1]))\n",
    "print(count_low_high([1,51,3]))"
   ]
  },
  {
   "cell_type": "markdown",
   "metadata": {},
   "source": [
    "# Detecting String Pattern\n",
    "In this coding exercise, you are asked to write the body of a function called detect_pattern that returns true or false depending upon whether two strings have the same pattern of characters. More precisely, two strings have the same pattern if they are of the same length and if two characters in the first string are equal if and only if the characters in the corresponding positions in the second string are also equal.\n",
    "\n",
    "Below are some examples of patterns that are the same and patterns that differ:\n",
    "\n",
    "1st String\t2nd String\tSame Pattern\n",
    "“”\t“”\tTrue\n",
    "“a”\t“a”\tTrue\n",
    "“x”\t“y”\tTrue\n",
    "“ab”\t“xy”\tTrue\n",
    "“aba”\t“xyz”\tFalse\n",
    "“- - -”\t“xyz”\tFalse\n",
    "“- - -”\t“aaa”\tTrue\n",
    "“xyzxyz”\t“toetoe”\tTrue\n",
    "“xyzxyz”\t“toetoa”\tFalse\n",
    "“aaabbbcccd”\t“eeefffgggz”\tTrue\n",
    "“cbacbacba”\t“xyzxyzxyz”\tTrue\n",
    "“abcdefghijk”\t“lmnopqrstuv”\tTrue\n",
    "“asasasasas”\t“xxxxxyyyyy”\tFalse\n",
    "“ascneencsa”\t“aeiouaeiou”\tFalse\n",
    "“aaasssiiii”\t“gggdddfffh”\tFalse\n",
    "For example, if two strings called s1 and s2 contain the following letters:\n",
    "\n",
    "s1 = \"aba\"\n",
    "s2 = \"xyz\"\n",
    "then the call detect_pattern(s1, s2) should return False.\n",
    "\n",
    "Note:\n",
    "\n",
    "The function detect_pattern takes two parameters: the two strings to compare.\n",
    "You are allowed to create new strings, but otherwise you are not allowed to construct extra data structures to solve this problem (no list, set, dictionary, etc).\n",
    "Keep in mind that the method should return the same value no matter what order the two strings are passed."
   ]
  },
  {
   "cell_type": "code",
   "execution_count": 12,
   "metadata": {},
   "outputs": [
    {
     "name": "stdout",
     "output_type": "stream",
     "text": [
      "  False\n",
      "a a True\n",
      "x y True\n",
      "ab xy True\n",
      "--- xyz False\n",
      "--- aaa True\n",
      "xyzxyz toetoe True\n",
      "xyzxyz toetoa False\n",
      "aaabbbcccd eeefffgggz True\n",
      "cbacbacba xyzxyzxyz True\n",
      "abcdefghijk lmnopqrstuv True\n",
      "asasasasas xxxxxyyyyy False\n",
      "ascneencsa aeiouaeiou False\n",
      "aaasssiiii gggdddfffh False\n"
     ]
    }
   ],
   "source": [
    "def detect_pattern(s1,s2):\n",
    "  if not s1 or not s2:\n",
    "    return False\n",
    "  if len(s1) != len(s2):\n",
    "    return False\n",
    "    \n",
    "  for i,letter in enumerate(s1):\n",
    "    if not letter.isnumeric():\n",
    "      s1 = s1.replace(letter,str(i))\n",
    "\n",
    "  for i,letter in enumerate(s2):\n",
    "    if not letter.isnumeric():\n",
    "      s2 = s2.replace(letter,str(i))\n",
    "\n",
    "  return s1 == s2\n",
    "\n",
    "print(\"\",\"\",detect_pattern(\"\",\"\"))\n",
    "print(\"a\",\"a\",detect_pattern(\"a\",\"a\"))\n",
    "print(\"x\",\"y\",detect_pattern(\"x\",\"y\"))\n",
    "print(\"ab\",\"xy\",detect_pattern(\"ab\",\"xy\"))\n",
    "print(\"---\",\"xyz\",detect_pattern(\"---\",\"xyz\"))\n",
    "print(\"---\",\"aaa\",detect_pattern(\"---\",\"aaa\"))\n",
    "print('xyzxyz','toetoe',detect_pattern('xyzxyz','toetoe'))\n",
    "print(\"xyzxyz\",\"toetoa\",detect_pattern(\"xyzxyz\",\"toetoa\"))\n",
    "print('aaabbbcccd','eeefffgggz',detect_pattern('aaabbbcccd','eeefffgggz'))\n",
    "print('cbacbacba','xyzxyzxyz',detect_pattern('cbacbacba','xyzxyzxyz'))\n",
    "print('abcdefghijk','lmnopqrstuv',detect_pattern('abcdefghijk','lmnopqrstuv'))\n",
    "print('asasasasas','xxxxxyyyyy',detect_pattern('asasasasas','xxxxxyyyyy'))\n",
    "print('ascneencsa','aeiouaeiou',detect_pattern('ascneencsa','aeiouaeiou'))\n",
    "print('aaasssiiii','gggdddfffh',detect_pattern('aaasssiiii','gggdddfffh'))"
   ]
  },
  {
   "cell_type": "markdown",
   "metadata": {},
   "source": [
    "# List of Lists (2D - List)\n",
    "In this coding question, you are asked to write the body of a function called find_max that takes a two- dimensional (2D) list as a parameter and returns the number of the row that sums to the greatest value.\n",
    "\n",
    "For example if you had the following list of lists:\n",
    "\n",
    "list = [[1, 2, 3], [2, 3, 3], [1, 3, 3]] \n",
    "The sum of the first row would be: 6\n",
    "The second: 8\n",
    "The third: 7\n",
    "The function find_max(list) would, therefore, return 1, i.e. the row number having the maximum sum. You can assume the passed-in list of lists has at least one row and one column."
   ]
  },
  {
   "cell_type": "code",
   "execution_count": 13,
   "metadata": {},
   "outputs": [
    {
     "data": {
      "text/plain": [
       "1"
      ]
     },
     "execution_count": 13,
     "metadata": {},
     "output_type": "execute_result"
    }
   ],
   "source": [
    "def find_max(lis):\n",
    "  sums = [sum(lists) for lists in lis]\n",
    "  return sums.index(max(sums))\n",
    "\n",
    "lista = [[1, 2, 3], [2, 3, 3], [1, 3, 3]] \n",
    "find_max(lista)"
   ]
  },
  {
   "cell_type": "markdown",
   "metadata": {},
   "source": [
    "# Remove Duplicates from the List\n",
    "In this coding exercise, you are asked to write the body of a function called remove_duplicates that takes a list of tuples and removes duplicates from the list, returning a set of the tuples from the list.\n",
    "For example, if a list called points contains the following values:\n",
    "\n",
    "points = [(1,3), (7,7), (1,3), (7,8), (1,3), (7,7), (7,8), (4, 2), (7, 8), (7, 8), (4, 2), (4, 2)] \n",
    "then the call remove_duplicates(points) should leave the list storing:\n",
    "\n",
    "[(1, 3), (7, 7), (7, 8), (4, 2)] \n",
    "and the set returned should store the same values.\n",
    "\n",
    "Note:\n",
    "\n",
    "Your function should preserve the order of values in the list (removing duplicates that come later in the list), but the values in the set can appear in any order.\n",
    "You may construct the set to be returned, but you are not allowed to construct other structured objects (no string, list, etc.)."
   ]
  },
  {
   "cell_type": "code",
   "execution_count": 14,
   "metadata": {},
   "outputs": [
    {
     "name": "stdout",
     "output_type": "stream",
     "text": [
      "[(1, 3), (7, 7), (7, 8), (4, 2)]\n"
     ]
    }
   ],
   "source": [
    "def remove_duplicates(lis):\n",
    "  b = set(lis)\n",
    "  return sorted(list(b),key=lis.index)\n",
    "\n",
    "points = [(1,3), (7,7), (1,3), (7,8), (1,3), (7,7), (7,8), (4, 2), (7, 8), (7, 8), (4, 2), (4, 2)] \n",
    "print(remove_duplicates(points))"
   ]
  },
  {
   "cell_type": "code",
   "execution_count": 15,
   "metadata": {},
   "outputs": [
    {
     "name": "stdout",
     "output_type": "stream",
     "text": [
      "{(4, 2), (1, 3), (7, 7), (7, 8)}\n"
     ]
    }
   ],
   "source": [
    "def remove_duplicates(lis):\n",
    "  b = set(lis)\n",
    "  return b\n",
    "\n",
    "points = [(1,3), (7,7), (1,3), (7,8), (1,3), (7,7), (7,8), (4, 2), (7, 8), (7, 8), (4, 2), (4, 2)] \n",
    "print(remove_duplicates(points))"
   ]
  },
  {
   "cell_type": "markdown",
   "metadata": {},
   "source": [
    "# Grade Stats Dictionary\n",
    "In this coding exercise, you are asked to write the body of a function called grade_stats that accepts as a parameter a list representing the grades given in a course and returns a dictionary mapping each grade to the count of how many were given.\n",
    "\n",
    "For example, if a list G contains the following:\n",
    "\n",
    "G = ['A', 'I', 'C', 'C', 'E', 'B', 'A', 'E', 'E', 'A', 'B', 'B', 'B'] \n",
    "The call of grade_stats(G) should return the following dictionary:\n",
    "\n",
    "{'A':3, 'I':1, 'C':2, 'E':3, 'B':4} \n",
    "Note:\n",
    "\n",
    "The grades may not always be A, B, C, D, E, and I. For example, A- is a valid grade in some places as is 3.7. You should treat whatever is in the passed-in list as a valid grade.\n",
    "If the passed-in list is empty, your function should return an empty dictionary."
   ]
  },
  {
   "cell_type": "code",
   "execution_count": 16,
   "metadata": {},
   "outputs": [
    {
     "name": "stdout",
     "output_type": "stream",
     "text": [
      "{'A': 3, 'I': 1, 'C': 2, 'E': 3, 'B': 4}\n"
     ]
    }
   ],
   "source": [
    "def grade_stats(list_grades):\n",
    "  if not list_grades:\n",
    "    return dict()\n",
    "  return {grade:list_grades.count(grade) for grade in list_grades}\n",
    "\n",
    "print(grade_stats(['A', 'I', 'C', 'C', 'E', 'B', 'A', 'E', 'E', 'A', 'B', 'B', 'B']))"
   ]
  },
  {
   "attachments": {},
   "cell_type": "markdown",
   "metadata": {},
   "source": [
    "# Longest Sorted Sequence\n",
    "\n",
    "In this coding exercise, you are asked to write the body of a function named longest_sorted_sequence that accepts a list of integers as a parameter and returns the length of the longest sorted (nondecreasing) sequence of integers in the list.\n",
    "\n",
    "For example, if a variable named lis stores the following values:\n",
    "\n",
    "lis = [3, 8, 10, 1, 9, 14, -3, 0, 14, 207, 56, 98, 12] then the call of longest_sorted_sequence(lis) should return 4 because the longest sorted sequence in the list has four values in it (the sequence: -3, 0, 14, 207).\n",
    "\n",
    "Notice that sorted means nondecreasing, which means that the sequence could contain duplicates.\n",
    "\n",
    "For example, if the list stores the following values:\n",
    "\n",
    "lis2 = [17, 42, 3, 5, 5, 5, 8, 2, 4, 6, 1, 19] Then the method would return 5 for the length of the longest sequence (the sequence: 3, 5, 5, 5, 8).\n",
    "\n",
    "Note:\n",
    "\n",
    "Your method should return 0 if passed an empty list. Your method should return 1 if passed a list that is entirely in decreasing order or contains only one element."
   ]
  },
  {
   "cell_type": "code",
   "execution_count": 17,
   "metadata": {},
   "outputs": [
    {
     "name": "stdout",
     "output_type": "stream",
     "text": [
      "4\n",
      "5\n"
     ]
    }
   ],
   "source": [
    "def  longest_sorted_sequence(int_list):\n",
    "  if not int_list:\n",
    "    return 0\n",
    "  if len(int_list) == 1:\n",
    "    return 1\n",
    "  if int_list == sorted(int_list):\n",
    "    return 1\n",
    "  result = []\n",
    "  list_sort = []\n",
    "  for i in range(len(int_list)):\n",
    "    if i+1 == len(int_list):\n",
    "      break\n",
    "    if int_list[i] <= int_list[i+1]:\n",
    "      list_sort.append(int_list[i])\n",
    "    else:\n",
    "      list_sort.append(int_list[i])\n",
    "      result.append(list_sort)\n",
    "      list_sort = []\n",
    "  return max([len(x) for x in result])\n",
    "\n",
    "lis = [3, 8, 10, 1, 9, 14, -3, 0, 14, 207, 56, 98, 12]\n",
    "print(longest_sorted_sequence(lis))\n",
    "\n",
    "lis2 = [17, 42, 3, 5, 5, 5, 8, 2, 4, 6, 1, 19]\n",
    "print(longest_sorted_sequence(lis2))"
   ]
  },
  {
   "attachments": {},
   "cell_type": "markdown",
   "metadata": {},
   "source": [
    "# Fizz Buzz Test\n",
    "Write a program that prints the numbers from 1 to 100. But for\n",
    "multiples of three print “Fizz” instead of the number and for the\n",
    "multiples of five print “Buzz”. For numbers which are multiples\n",
    "of both three and five print “FizzBuzz”.\" "
   ]
  },
  {
   "cell_type": "code",
   "execution_count": 2,
   "metadata": {},
   "outputs": [
    {
     "name": "stdout",
     "output_type": "stream",
     "text": [
      "1\n",
      "2\n",
      "Fizz\n",
      "4\n",
      "Buzz\n",
      "Fizz\n",
      "7\n",
      "8\n",
      "Fizz\n",
      "Buzz\n",
      "11\n",
      "Fizz\n",
      "13\n",
      "14\n",
      "FizzBuzz\n",
      "16\n",
      "17\n",
      "Fizz\n",
      "19\n",
      "Buzz\n",
      "Fizz\n",
      "22\n",
      "23\n",
      "Fizz\n",
      "Buzz\n",
      "26\n",
      "Fizz\n",
      "28\n",
      "29\n",
      "FizzBuzz\n",
      "31\n",
      "32\n",
      "Fizz\n",
      "34\n",
      "Buzz\n",
      "Fizz\n",
      "37\n",
      "38\n",
      "Fizz\n",
      "Buzz\n",
      "41\n",
      "Fizz\n",
      "43\n",
      "44\n",
      "FizzBuzz\n",
      "46\n",
      "47\n",
      "Fizz\n",
      "49\n",
      "Buzz\n",
      "Fizz\n",
      "52\n",
      "53\n",
      "Fizz\n",
      "Buzz\n",
      "56\n",
      "Fizz\n",
      "58\n",
      "59\n",
      "FizzBuzz\n",
      "61\n",
      "62\n",
      "Fizz\n",
      "64\n",
      "Buzz\n",
      "Fizz\n",
      "67\n",
      "68\n",
      "Fizz\n",
      "Buzz\n",
      "71\n",
      "Fizz\n",
      "73\n",
      "74\n",
      "FizzBuzz\n",
      "76\n",
      "77\n",
      "Fizz\n",
      "79\n",
      "Buzz\n",
      "Fizz\n",
      "82\n",
      "83\n",
      "Fizz\n",
      "Buzz\n",
      "86\n",
      "Fizz\n",
      "88\n",
      "89\n",
      "FizzBuzz\n",
      "91\n",
      "92\n",
      "Fizz\n",
      "94\n",
      "Buzz\n",
      "Fizz\n",
      "97\n",
      "98\n",
      "Fizz\n",
      "Buzz\n"
     ]
    }
   ],
   "source": [
    "for numbers in range(1,101):\n",
    "    if numbers % 3 == 0 and numbers % 5 == 0:\n",
    "        print('FizzBuzz')\n",
    "    elif numbers % 3 == 0:\n",
    "        print('Fizz')\n",
    "    elif numbers % 5 == 0:\n",
    "        print('Buzz')\n",
    "    else:\n",
    "        print(numbers)"
   ]
  }
 ],
 "metadata": {
  "kernelspec": {
   "display_name": "Python 3",
   "language": "python",
   "name": "python3"
  },
  "language_info": {
   "codemirror_mode": {
    "name": "ipython",
    "version": 3
   },
   "file_extension": ".py",
   "mimetype": "text/x-python",
   "name": "python",
   "nbconvert_exporter": "python",
   "pygments_lexer": "ipython3",
   "version": "3.10.6"
  },
  "orig_nbformat": 4,
  "vscode": {
   "interpreter": {
    "hash": "916dbcbb3f70747c44a77c7bcd40155683ae19c65e1c03b4aa3499c5328201f1"
   }
  }
 },
 "nbformat": 4,
 "nbformat_minor": 2
}
