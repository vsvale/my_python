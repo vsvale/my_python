{
 "cells": [
  {
   "cell_type": "code",
   "execution_count": 18,
   "metadata": {},
   "outputs": [],
   "source": [
    "import wget\n",
    "from os.path import exists\n",
    "import os\n",
    "import pandas as pd\n",
    "import random\n",
    "import re\n",
    "from IPython.display import display, Image\n",
    "from IPython.display import clear_output\n",
    "import time"
   ]
  },
  {
   "cell_type": "code",
   "execution_count": 19,
   "metadata": {},
   "outputs": [],
   "source": [
    "def jogar():\n",
    "    print('********************************')\n",
    "    print('***Bem vindo ao jogo da Forca***')\n",
    "    print('********************************')\n",
    "    \n",
    "    hang = False\n",
    "    win = False\n",
    "    inputs = []\n",
    "    forca = 0\n",
    "\n",
    "    if not exists('data/br-sem-acentos.txt'):\n",
    "        wget.download('https://raw.githubusercontent.com/vsvale/python3_parte2_avancando_na_linguagem/main/br-sem-acentos.txt','data')\n",
    "    if not exists('./img'):\n",
    "        os.mkdir('./img')\n",
    "        for i in range(11):\n",
    "            wget.download('https://raw.githubusercontent.com/vsvale/python3_parte2_avancando_na_linguagem/main/img/hang_{}.png'.format(i),'./img')\n",
    "\n",
    "    words = pd.read_csv('data/br-sem-acentos.txt',header=None)\n",
    "    words = words.rename(columns = {0:'words'})\n",
    "    words = words.where(words['words'].str.len()> 2)\n",
    "    words = words.dropna()\n",
    "    words = words.values.tolist()\n",
    "    palavra_secreta = random.choice(words)[0]\n",
    "    secret = len(palavra_secreta) * '-'\n",
    "    \n",
    "\n",
    "    while(not hang and not win):\n",
    "        if forca >= 10:\n",
    "            hang = True\n",
    "            print('**********YOU LOSE!************')\n",
    "            continue\n",
    "        \n",
    "        if secret == palavra_secreta:\n",
    "            win = True\n",
    "            print('**********WINNER!************')\n",
    "            continue\n",
    "        \n",
    "        print('******ADIVINHE A PALAVRA*********')\n",
    "        print(secret)\n",
    "        print('********************************')\n",
    "\n",
    "        if not inputs:\n",
    "            print('Letras jogadas:',inputs)\n",
    "        else:\n",
    "            print('Letras jogadas:',set(inputs))\n",
    "        \n",
    "        print('Tentativas restantes:',10 - forca)\n",
    "\n",
    "        display(Image(filename='./img/hang_{}.png'.format(forca)))\n",
    "       \n",
    "        player_try = input('Escolha uma letra: ')\n",
    "\n",
    "        if len(player_try) > 1 or player_try.isdigit():\n",
    "            print('Favor informar uma Letra')\n",
    "            time.sleep(0.9)\n",
    "            clear_output(wait=True)\n",
    "            continue\n",
    "\n",
    "        if player_try in inputs:\n",
    "            print('Letra já foi jogada')\n",
    "            time.sleep(0.9)\n",
    "            clear_output(wait=True)\n",
    "            continue\n",
    "        else:\n",
    "            inputs.append(player_try)\n",
    "            letra_in = [m.start() for m in re.finditer(player_try, palavra_secreta)]\n",
    "            if not letra_in:\n",
    "                forca = forca + 1\n",
    "            else:\n",
    "                secret = ''.join([player_try if i in letra_in else a for i, a in enumerate(secret)])\n",
    "        clear_output(wait=True)\n",
    "    print('***********Fim do Jogo***********')"
   ]
  },
  {
   "cell_type": "code",
   "execution_count": 21,
   "metadata": {},
   "outputs": [
    {
     "name": "stdout",
     "output_type": "stream",
     "text": [
      "**********WINNER!************\n",
      "***********Fim do Jogo***********\n"
     ]
    }
   ],
   "source": [
    "jogar()"
   ]
  }
 ],
 "metadata": {
  "kernelspec": {
   "display_name": "Python 3",
   "language": "python",
   "name": "python3"
  },
  "language_info": {
   "codemirror_mode": {
    "name": "ipython",
    "version": 3
   },
   "file_extension": ".py",
   "mimetype": "text/x-python",
   "name": "python",
   "nbconvert_exporter": "python",
   "pygments_lexer": "ipython3",
   "version": "3.10.6"
  },
  "orig_nbformat": 4,
  "vscode": {
   "interpreter": {
    "hash": "916dbcbb3f70747c44a77c7bcd40155683ae19c65e1c03b4aa3499c5328201f1"
   }
  }
 },
 "nbformat": 4,
 "nbformat_minor": 2
}
