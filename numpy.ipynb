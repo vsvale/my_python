{
 "cells": [
  {
   "cell_type": "code",
   "execution_count": 2,
   "metadata": {},
   "outputs": [],
   "source": [
    "import numpy as np"
   ]
  },
  {
   "attachments": {},
   "cell_type": "markdown",
   "metadata": {},
   "source": [
    "- Crie um array 6x6 preenchido com zero\n",
    "- Preencha o centro desse array com um array 4x4 preenchido com 1\n",
    "- Preencha o centro desse array com um array 4x4 preenchido com 2\n",
    "- Gere um segundo array 6x6 com numeros inteiros aleatorios entre 0 e 2\n",
    "- Subtraia o primeiro array pelo segundo\n"
   ]
  },
  {
   "cell_type": "code",
   "execution_count": 8,
   "metadata": {},
   "outputs": [
    {
     "data": {
      "text/plain": [
       "array([[0., 0., 0., 0., 0., 0.],\n",
       "       [0., 1., 1., 1., 1., 0.],\n",
       "       [0., 1., 2., 2., 1., 0.],\n",
       "       [0., 1., 2., 2., 1., 0.],\n",
       "       [0., 1., 1., 1., 1., 0.],\n",
       "       [0., 0., 0., 0., 0., 0.]])"
      ]
     },
     "execution_count": 8,
     "metadata": {},
     "output_type": "execute_result"
    }
   ],
   "source": [
    "primeiro = np.zeros((6,6))\n",
    "primeiro[1:-1,1:-1] = 1\n",
    "primeiro[2:-2,2:-2] = 2\n",
    "primeiro"
   ]
  },
  {
   "cell_type": "code",
   "execution_count": 13,
   "metadata": {},
   "outputs": [
    {
     "data": {
      "text/plain": [
       "array([[0, 0, 0, 1, 1, 0],\n",
       "       [1, 1, 1, 0, 1, 0],\n",
       "       [1, 0, 1, 1, 1, 1],\n",
       "       [0, 0, 1, 1, 0, 1],\n",
       "       [0, 1, 0, 0, 1, 1],\n",
       "       [0, 1, 1, 1, 0, 1]])"
      ]
     },
     "execution_count": 13,
     "metadata": {},
     "output_type": "execute_result"
    }
   ],
   "source": [
    "segundo = np.random.randint(0,2,(6,6))\n",
    "segundo"
   ]
  },
  {
   "cell_type": "code",
   "execution_count": 14,
   "metadata": {},
   "outputs": [
    {
     "data": {
      "text/plain": [
       "array([[ 0.,  0.,  0., -1., -1.,  0.],\n",
       "       [-1.,  0.,  0.,  1.,  0.,  0.],\n",
       "       [-1.,  1.,  1.,  1.,  0., -1.],\n",
       "       [ 0.,  1.,  1.,  1.,  1., -1.],\n",
       "       [ 0.,  0.,  1.,  1.,  0., -1.],\n",
       "       [ 0., -1., -1., -1.,  0., -1.]])"
      ]
     },
     "execution_count": 14,
     "metadata": {},
     "output_type": "execute_result"
    }
   ],
   "source": [
    "primeiro - segundo"
   ]
  },
  {
   "attachments": {},
   "cell_type": "markdown",
   "metadata": {},
   "source": [
    "- Crie um array 9x9 com numeros de 0 a 80 ordenados de modo crescente\n",
    "- Selecione os números impares\n",
    "- Selecione os números pares\n",
    "- Selecione os múltiples de sete\n",
    "- Seleciono os múltiplo de 10\n",
    "- Selecione os números 32,33,42,43"
   ]
  },
  {
   "cell_type": "code",
   "execution_count": 19,
   "metadata": {},
   "outputs": [
    {
     "data": {
      "text/plain": [
       "array([[ 0,  1,  2,  3,  4,  5,  6,  7,  8],\n",
       "       [ 9, 10, 11, 12, 13, 14, 15, 16, 17],\n",
       "       [18, 19, 20, 21, 22, 23, 24, 25, 26],\n",
       "       [27, 28, 29, 30, 31, 32, 33, 34, 35],\n",
       "       [36, 37, 38, 39, 40, 41, 42, 43, 44],\n",
       "       [45, 46, 47, 48, 49, 50, 51, 52, 53],\n",
       "       [54, 55, 56, 57, 58, 59, 60, 61, 62],\n",
       "       [63, 64, 65, 66, 67, 68, 69, 70, 71],\n",
       "       [72, 73, 74, 75, 76, 77, 78, 79, 80]])"
      ]
     },
     "execution_count": 19,
     "metadata": {},
     "output_type": "execute_result"
    }
   ],
   "source": [
    "array = np.arange(81).reshape(9,9)\n",
    "array"
   ]
  },
  {
   "cell_type": "code",
   "execution_count": 20,
   "metadata": {},
   "outputs": [
    {
     "data": {
      "text/plain": [
       "array([ 1,  3,  5,  7,  9, 11, 13, 15, 17, 19, 21, 23, 25, 27, 29, 31, 33,\n",
       "       35, 37, 39, 41, 43, 45, 47, 49, 51, 53, 55, 57, 59, 61, 63, 65, 67,\n",
       "       69, 71, 73, 75, 77, 79])"
      ]
     },
     "execution_count": 20,
     "metadata": {},
     "output_type": "execute_result"
    }
   ],
   "source": [
    "array[array % 2 == 1]"
   ]
  },
  {
   "cell_type": "code",
   "execution_count": 21,
   "metadata": {},
   "outputs": [
    {
     "data": {
      "text/plain": [
       "array([ 0,  2,  4,  6,  8, 10, 12, 14, 16, 18, 20, 22, 24, 26, 28, 30, 32,\n",
       "       34, 36, 38, 40, 42, 44, 46, 48, 50, 52, 54, 56, 58, 60, 62, 64, 66,\n",
       "       68, 70, 72, 74, 76, 78, 80])"
      ]
     },
     "execution_count": 21,
     "metadata": {},
     "output_type": "execute_result"
    }
   ],
   "source": [
    "array[array % 2 == 0]"
   ]
  },
  {
   "cell_type": "code",
   "execution_count": 22,
   "metadata": {},
   "outputs": [
    {
     "data": {
      "text/plain": [
       "array([ 0,  7, 14, 21, 28, 35, 42, 49, 56, 63, 70, 77])"
      ]
     },
     "execution_count": 22,
     "metadata": {},
     "output_type": "execute_result"
    }
   ],
   "source": [
    "array[array % 7 == 0]"
   ]
  },
  {
   "cell_type": "code",
   "execution_count": 33,
   "metadata": {},
   "outputs": [
    {
     "data": {
      "text/plain": [
       "array([ 0, 10, 20, 30, 40, 50, 60, 70, 80])"
      ]
     },
     "execution_count": 33,
     "metadata": {},
     "output_type": "execute_result"
    }
   ],
   "source": [
    "array.diagonal()"
   ]
  },
  {
   "cell_type": "code",
   "execution_count": 39,
   "metadata": {},
   "outputs": [
    {
     "data": {
      "text/plain": [
       "array([32, 33, 42, 43])"
      ]
     },
     "execution_count": 39,
     "metadata": {},
     "output_type": "execute_result"
    }
   ],
   "source": [
    "np.union1d(array[3:4,5:7], array[4:5,6:8])"
   ]
  },
  {
   "attachments": {},
   "cell_type": "markdown",
   "metadata": {},
   "source": [
    "Criem um array com três dimensões, onde a primeira dimensão são os dias das semana, a segunda dimensão são as semanas do mês e a terceira são os meses do ano.\n",
    "- Marque os finais de semmana com a letra W\n",
    "- marque o começo do mês com a letra S\n",
    "- Marque o Final do mês com a letra E\n",
    "- Marque os demais dias com a letra D\n",
    "- Marque os feriados com a letra F:\n",
    "    - 1/1\n",
    "    - 15/4\n",
    "    - 24/4\n",
    "    - 1/5\n",
    "    - 7/9\n",
    "    - 12/10\n",
    "    - 2/11\n",
    "    - 15/11\n",
    "    - 25/12\n",
    "1 - 7 = 0\n",
    "8 -14 = 1\n",
    "15 - 21 = 2\n",
    "22 - 28 = 3"
   ]
  },
  {
   "cell_type": "code",
   "execution_count": 61,
   "metadata": {},
   "outputs": [
    {
     "data": {
      "text/plain": [
       "array([[['F', 'D', 'D', 'D', 'D', 'W', 'W'],\n",
       "        ['D', 'D', 'D', 'D', 'D', 'W', 'W'],\n",
       "        ['D', 'D', 'D', 'D', 'D', 'W', 'W'],\n",
       "        ['D', 'D', 'D', 'D', 'D', 'W', 'E']],\n",
       "\n",
       "       [['S', 'D', 'D', 'D', 'D', 'W', 'W'],\n",
       "        ['D', 'D', 'D', 'D', 'D', 'W', 'W'],\n",
       "        ['D', 'D', 'D', 'D', 'D', 'W', 'W'],\n",
       "        ['D', 'D', 'D', 'D', 'D', 'W', 'E']],\n",
       "\n",
       "       [['S', 'D', 'D', 'D', 'D', 'W', 'W'],\n",
       "        ['D', 'D', 'D', 'D', 'D', 'W', 'W'],\n",
       "        ['D', 'D', 'D', 'D', 'D', 'W', 'W'],\n",
       "        ['D', 'D', 'D', 'D', 'D', 'W', 'E']],\n",
       "\n",
       "       [['S', 'D', 'D', 'D', 'D', 'W', 'W'],\n",
       "        ['D', 'D', 'D', 'D', 'D', 'W', 'W'],\n",
       "        ['F', 'D', 'D', 'D', 'D', 'W', 'W'],\n",
       "        ['D', 'D', 'F', 'D', 'D', 'W', 'E']],\n",
       "\n",
       "       [['F', 'D', 'D', 'D', 'D', 'W', 'W'],\n",
       "        ['D', 'D', 'D', 'D', 'D', 'W', 'W'],\n",
       "        ['D', 'D', 'D', 'D', 'D', 'W', 'W'],\n",
       "        ['D', 'D', 'D', 'D', 'D', 'W', 'E']],\n",
       "\n",
       "       [['S', 'D', 'D', 'D', 'D', 'W', 'W'],\n",
       "        ['D', 'D', 'D', 'D', 'D', 'W', 'W'],\n",
       "        ['D', 'D', 'D', 'D', 'D', 'W', 'W'],\n",
       "        ['D', 'D', 'D', 'D', 'D', 'W', 'E']],\n",
       "\n",
       "       [['S', 'D', 'D', 'D', 'D', 'W', 'W'],\n",
       "        ['D', 'D', 'D', 'D', 'D', 'W', 'W'],\n",
       "        ['D', 'D', 'D', 'D', 'D', 'W', 'W'],\n",
       "        ['D', 'D', 'D', 'D', 'D', 'W', 'E']],\n",
       "\n",
       "       [['S', 'D', 'D', 'D', 'D', 'W', 'W'],\n",
       "        ['D', 'D', 'D', 'D', 'D', 'W', 'W'],\n",
       "        ['D', 'D', 'D', 'D', 'D', 'W', 'W'],\n",
       "        ['D', 'D', 'D', 'D', 'D', 'W', 'E']],\n",
       "\n",
       "       [['S', 'D', 'D', 'D', 'D', 'W', 'F'],\n",
       "        ['D', 'D', 'D', 'D', 'D', 'W', 'W'],\n",
       "        ['D', 'D', 'D', 'D', 'D', 'W', 'W'],\n",
       "        ['D', 'D', 'D', 'D', 'D', 'W', 'E']],\n",
       "\n",
       "       [['S', 'D', 'D', 'D', 'D', 'W', 'W'],\n",
       "        ['D', 'D', 'D', 'D', 'F', 'W', 'W'],\n",
       "        ['D', 'D', 'D', 'D', 'D', 'W', 'W'],\n",
       "        ['D', 'D', 'D', 'D', 'D', 'W', 'E']],\n",
       "\n",
       "       [['S', 'F', 'D', 'D', 'D', 'W', 'W'],\n",
       "        ['D', 'D', 'D', 'D', 'D', 'W', 'W'],\n",
       "        ['F', 'D', 'D', 'D', 'D', 'W', 'W'],\n",
       "        ['D', 'D', 'D', 'D', 'D', 'W', 'E']],\n",
       "\n",
       "       [['S', 'D', 'D', 'D', 'D', 'W', 'W'],\n",
       "        ['D', 'D', 'D', 'D', 'D', 'W', 'W'],\n",
       "        ['D', 'D', 'D', 'D', 'D', 'W', 'W'],\n",
       "        ['D', 'D', 'D', 'F', 'D', 'W', 'E']]], dtype='<U1')"
      ]
     },
     "execution_count": 61,
     "metadata": {},
     "output_type": "execute_result"
    }
   ],
   "source": [
    "calendario = np.full([12,4,7],'')\n",
    "calendario[:,:,5:] = 'W'\n",
    "calendario[:,0,0] = 'S'\n",
    "calendario[:,-1,-1] = 'E'\n",
    "calendario[calendario == ''] = 'D'\n",
    "calendario[0,0,0] = 'F'\n",
    "calendario[3,2,0] = 'F'\n",
    "calendario[3,3,2] = 'F'\n",
    "calendario[4,0,0] = 'F'\n",
    "calendario[8,0,6] = 'F'\n",
    "calendario[9,1,4] = 'F'\n",
    "calendario[10,0,1] = 'F'\n",
    "calendario[10,2,0] = 'F'\n",
    "calendario[11,3,3] = 'F'\n",
    "calendario"
   ]
  }
 ],
 "metadata": {
  "kernelspec": {
   "display_name": "Python 3",
   "language": "python",
   "name": "python3"
  },
  "language_info": {
   "codemirror_mode": {
    "name": "ipython",
    "version": 3
   },
   "file_extension": ".py",
   "mimetype": "text/x-python",
   "name": "python",
   "nbconvert_exporter": "python",
   "pygments_lexer": "ipython3",
   "version": "3.10.6"
  },
  "orig_nbformat": 4,
  "vscode": {
   "interpreter": {
    "hash": "916dbcbb3f70747c44a77c7bcd40155683ae19c65e1c03b4aa3499c5328201f1"
   }
  }
 },
 "nbformat": 4,
 "nbformat_minor": 2
}
